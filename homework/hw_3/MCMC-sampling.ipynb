{
 "cells": [
  {
   "cell_type": "markdown",
   "id": "79941e06",
   "metadata": {},
   "source": [
    "# Домашнее задание №3: Пляшущие человечки"
   ]
  },
  {
   "cell_type": "markdown",
   "id": "73a627e8",
   "metadata": {},
   "source": [
    "Выполнил: Антон Бер <br>\n",
    "Группа: MADE-ML-22"
   ]
  },
  {
   "cell_type": "code",
   "execution_count": 48,
   "id": "annoying-fruit",
   "metadata": {},
   "outputs": [],
   "source": [
    "import string\n",
    "from collections import Counter\n",
    "import re\n",
    "import random \n",
    "from copy import copy\n",
    "\n",
    "\n",
    "import pandas as pd\n",
    "import numpy as np\n",
    "from nltk.tokenize import RegexpTokenizer\n",
    "from nltk import everygrams\n",
    "from tqdm.notebook import tqdm\n",
    "\n",
    "np.random.seed(23)"
   ]
  },
  {
   "cell_type": "markdown",
   "id": "serious-tuning",
   "metadata": {},
   "source": [
    "## Задание 1"
   ]
  },
  {
   "cell_type": "markdown",
   "id": "capable-tomato",
   "metadata": {},
   "source": [
    "Реализуйте базовый частотный метод по Шерлоку Холмсу:\n",
    "   - подсчитайте частоты букв по корпусам (пунктуацию и капитализацию можно просто опустить, а вот пробелы лучше оставить);\n",
    "   - возьмите какие-нибудь тестовые тексты (нужно взять по меньшей мере 2-3 предложения, иначе вряд ли сработает), зашифруйте их посредством случайной перестановки символов;\n",
    "   - расшифруйте их таким частотным методом.\n",
    "\n"
   ]
  },
  {
   "cell_type": "code",
   "execution_count": 2,
   "id": "designing-rubber",
   "metadata": {},
   "outputs": [],
   "source": [
    "tokenizer = RegexpTokenizer(r\"\\w+\")\n",
    "alphabet_ru = \" абвгдежзийклмнопрстуфхцчшщъыьэюя\"\n",
    "alphabet_eng = \" \" + string.ascii_lowercase"
   ]
  },
  {
   "cell_type": "code",
   "execution_count": 3,
   "id": "vocal-treasury",
   "metadata": {},
   "outputs": [],
   "source": [
    "def tokenize(text, tokenizer=tokenizer, alphabet=alphabet_ru):\n",
    "    text = \"\".join([char for char in text if char.lower() in alphabet])\n",
    "    \n",
    "    return \" \".join(tokenizer.tokenize(text.lower()))"
   ]
  },
  {
   "cell_type": "code",
   "execution_count": 4,
   "id": "continuing-minutes",
   "metadata": {},
   "outputs": [],
   "source": [
    "def get_frequencies(text, min_freq=0, n_gram=1):\n",
    "    frequencies = dict()\n",
    "    if n_gram > 1:\n",
    "        text = [\"\".join(ngram) for ngram in everygrams(text, min_len=n_gram, max_len=n_gram)]\n",
    "    for key, value in Counter(text).items():\n",
    "        if value / len(text) > min_freq:\n",
    "            frequencies[key] = value / len(text)\n",
    "    \n",
    "    return frequencies"
   ]
  },
  {
   "cell_type": "code",
   "execution_count": 5,
   "id": "sudden-jesus",
   "metadata": {},
   "outputs": [],
   "source": [
    "def generate_random_mapping(frequencies):\n",
    "    chars = list(frequencies.keys())\n",
    "    replace_chars = np.random.choice(chars, replace=False, size=len(frequencies))\n",
    "    mapping = dict()\n",
    "    for original_char, replace_char in zip(chars, replace_chars):\n",
    "        mapping[original_char] = replace_char\n",
    "    \n",
    "    return mapping"
   ]
  },
  {
   "cell_type": "code",
   "execution_count": 6,
   "id": "following-withdrawal",
   "metadata": {},
   "outputs": [],
   "source": [
    "def apply_mapping(text, mapping):\n",
    "\n",
    "    return \"\".join([mapping.get(char, \"ь\") for char in text])\n"
   ]
  },
  {
   "cell_type": "code",
   "execution_count": 7,
   "id": "alpha-official",
   "metadata": {},
   "outputs": [],
   "source": [
    "def generate_reverse_mapping(corpus_frequencies, text_frequencies):\n",
    "    corpus_frequencies_sorted = sorted(corpus_frequencies.items(), key=lambda x: x[1], reverse=True)\n",
    "    text_frequencies_sorted = sorted(text_frequencies.items(), key=lambda x: x[1], reverse=True)\n",
    "    \n",
    "    reverse_mapping = dict()\n",
    "    for text_char, text_freq in text_frequencies_sorted:\n",
    "        min_diff = 1\n",
    "        best_char = None\n",
    "        for corpus_char, corpus_freq in corpus_frequencies_sorted:\n",
    "            diff = abs(corpus_freq - text_freq)\n",
    "            if diff < min_diff:\n",
    "                best_char = corpus_char\n",
    "                min_diff = diff\n",
    "        \n",
    "        reverse_mapping[text_char] = best_char\n",
    "        corpus_freqeuncies_sorted = [(char, freq) for char, freq in corpus_frequencies_sorted if char != best_char]\n",
    "        \n",
    "    return reverse_mapping"
   ]
  },
  {
   "cell_type": "code",
   "execution_count": 8,
   "id": "moving-canberra",
   "metadata": {},
   "outputs": [],
   "source": [
    "# score function\n",
    "def char_accuracy(text_1, text_2):\n",
    "    assert len(text_1) == len(text_2)\n",
    "    right_chars = 0\n",
    "    for c1, c2 in zip(text_1, text_2):\n",
    "        right_chars += int(c1 == c2)\n",
    "        \n",
    "    return right_chars / len(text_1)"
   ]
  },
  {
   "cell_type": "code",
   "execution_count": 9,
   "id": "referenced-disclaimer",
   "metadata": {},
   "outputs": [],
   "source": [
    "# score function\n",
    "def levenstein_distance(text_1, text_2):\n",
    "    assert len(text_1) == len(text_2)\n",
    "    distances = range(len(text_1) + 1)\n",
    "    for idx_2, char_2 in enumerate(text_2):\n",
    "        new_dist = [idx_2 + 1]\n",
    "        for idx_1, char_1 in enumerate(text_1):\n",
    "            if char_1 == char_2:\n",
    "                new_dist.append(distances[idx_1])\n",
    "            else:\n",
    "                new_dist.append(1 + min(distances[idx_1], distances[idx_1 + 1], new_dist[-1]))\n",
    "        distances = new_dist\n",
    "\n",
    "    return distances[-1]"
   ]
  },
  {
   "cell_type": "code",
   "execution_count": 10,
   "id": "logical-latter",
   "metadata": {},
   "outputs": [],
   "source": [
    "# read data\n",
    "\n",
    "with open(\"./data/AnnaKarenina.txt\", \"r\", encoding=\"utf8\") as file:\n",
    "    corpus_1 = file.readlines()\n",
    "    \n",
    "with open(\"./data/WarAndPeace.txt\", \"r\", encoding=\"utf8\") as file:\n",
    "    corpus_2 = file.readlines()\n",
    "    \n",
    "corpus = corpus_1 + corpus_2\n",
    "\n",
    "tokenized_corpus = tokenize(\" \".join(corpus))\n",
    "corpus_frequencies = get_frequencies(tokenized_corpus)\n",
    "mapping = generate_random_mapping(corpus_frequencies)"
   ]
  },
  {
   "cell_type": "code",
   "execution_count": 11,
   "id": "biological-prerequisite",
   "metadata": {},
   "outputs": [
    {
     "data": {
      "text/plain": [
       "'на следующий день государь остановился в вишау лейбмедик вилье несколько раз был призываем к нему в главной квартире и в ближайших войсках распространилось известие что государь был нездоров он ничего не ел и дурно спал эту ночь как говорили приближенные причина этого нездоровья заключалась в сильном впечатлении произведенном на чувствительную душу государя видом раненых и убитых на заре го числа в вишау был препровожден с аванпостов французский офицер приехавший под парламентерским флагом требуя свидания с русским императором офицер этот был савари государь только что заснул и потому савари должен был дожидаться в полдень он был допущен к государю и через час поехал вместе с князем долгоруковым на аванпосты французской армии как слышно было цель присылки савари состояла в предложении свидания императора александра с наполеоном в личном свидании к радости и гордости всей армии было отказано и вместо государя князь долгоруков победитель при вишау был отправлен вместе с савари для переговоров с наполеоном ежели переговоры эти против чаяния имели целью действительное желание мира ввечеру вернулся долгоруков прошел прямо к государю и долго пробыл у него наедине'"
      ]
     },
     "execution_count": 11,
     "metadata": {},
     "output_type": "execute_result"
    }
   ],
   "source": [
    "with open(\"./data/task_1_test_ru.txt\", \"r\", encoding=\"utf8\") as file:\n",
    "    text = file.readlines()\n",
    "    \n",
    "tokenized_test = tokenize(\" \".join(text))\n",
    "encoded_test = apply_mapping(tokenized_test, mapping)\n",
    "test_frequencies = get_frequencies(encoded_test)\n",
    "tokenized_test"
   ]
  },
  {
   "cell_type": "code",
   "execution_count": 12,
   "id": "parliamentary-examination",
   "metadata": {},
   "outputs": [
    {
     "data": {
      "text/plain": [
       "'цгтсеркхзиэщткрцмт нсхкгпмтнсягцнаэесжтатаэугхтерщдюркэштаэемртцрсшнемшнтпгфтдветопэфвагрютштцрюхтат егацнщтшагпяэпртэтатдеэыгщуэлтанщсшглтпгсопнсяпгцэенсмтэфарсяэртьянт нсхкгпмтдветцрфкнпнатнцтцэьр нтцртретэткхпцнтсогетбяхтцньмтшгшт нанпэеэтопэдеэырццвртопэьэцгтбян нтцрфкнпнамжтфгшезьгегсмтатсэемцнютаорьгяерцээтопнэфаркрццнютцгтьхасяаэяремцхзткхухт нсхкгпжтаэкнютпгцрцвлтэтхдэявлтцгтфгпрт нтьэсегтатаэугхтдветопропнаныкрцтстгагцонсянатъпгцйхфсшэщтнъэйрптопэрлгауэщтонктогпегюрцярпсшэютъег нютяпрдхжтсаэкгцэжтстпхссшэютэюорпгянпнютнъэйрптбянятдветсгагпэт нсхкгпмтянемшнтьянтфгсцхетэтонянюхтсгагпэткнеырцтдветкныэкгямсжтатонекрцмтнцтдветкнохирцтшт нсхкгпзтэтьрпрфтьгстонрлгетаюрсяртстшцжфрюткне нпхшнавютцгтгагцонсявтъпгцйхфсшнщтгпюээтшгштсевуцнтдвентйремтопэсвешэтсгагпэтснсянжегтатопркенырцээтсаэкгцэжтэюорпгянпгтгершсгцкпгтстцгонернцнютатеэьцнютсаэкгцээтштпгкнсяэтэт нпкнсяэтасрщтгпюээтдвентняшгфгцнтэтаюрсянт нсхкгпжтшцжфмткне нпхшнатондркэяремтопэтаэугхтдветняопгаерцтаюрсяртстсгагпэткежторпр нанпнатстцгонернцнютрыреэторпр нанпвтбяэтопняэатьгжцэжтэюреэтйремзткрщсяаэяремцнртырегцэртюэпгтаарьрпхтарпцхесжткне нпхшнатопнуретопжюнтшт нсхкгпзтэткне нтопндветхтцр нтцгркэцр'"
      ]
     },
     "execution_count": 12,
     "metadata": {},
     "output_type": "execute_result"
    }
   ],
   "source": [
    "encoded_test"
   ]
  },
  {
   "cell_type": "code",
   "execution_count": 13,
   "id": "medical-marriage",
   "metadata": {},
   "outputs": [
    {
     "data": {
      "text/plain": [
       "'та ттаркюфай рать яоткраиь откатосаттч с сахак тайчуарау сатьа татуотьуо иач чьт киачьсаау у таук с ятастой усаикаиа а с чтахайхаю сойтуаю иаткиоткиататоть ачсаткаа чко яоткраиь чьт тачроиос от тачаяо та ат а ркито ткат экк точь уау яосоиата киачтахаттьа киачата экояо тачроиосьч чаутючатать с татьтоу скачактатаа киоачсараттоу та чкстксакатьткю ркхк яоткраич сароу иататью а кчакью та чаиа яо чатта с сахак чьт киакиосохрат т асаткоткос юиатюкчтуай оюаюаи киааюасхай кор каитауаткаитуау ютаяоу киачкч тсаратач т икттуау аукаиакоиоу оюаюаи экок чьт тасаиа яоткраиь котьуо чко чатткт а кокоук тасаиа ротхат чьт рохаракьтч с котрать от чьт роккфат у яоткраию а чаиач чат коаюат суатка т утччау ротяоикуосьу та асаткоткь юиатюкчтуой аиуаа уау ттьхто чьто юать киатьтуа тасаиа тоткочта с киартохатаа тсаратач аукаиакоиа атаутатриа т такотаотоу с тачтоу тсаратаа у иаротка а яоиротка стай аиуаа чьто окуачато а суатко яоткраич утччь ротяоикуос кочаракать киа сахак чьт оккиастат суатка т тасаиа ртч каиаяосоиос т такотаотоу ахата каиаяосоиь эка киокас чачтач ауата юатью райтксакатьтоа хататаа уаиа ссачаик саиткттч ротяоикуос киохат кичуо у яоткраию а ротяо киочьт к таяо таарата'"
      ]
     },
     "execution_count": 13,
     "metadata": {},
     "output_type": "execute_result"
    }
   ],
   "source": [
    "reverse_mapping = generate_reverse_mapping(corpus_frequencies, test_frequencies)\n",
    "decoded_test = apply_mapping(encoded_test, reverse_mapping)\n",
    "decoded_test"
   ]
  },
  {
   "cell_type": "code",
   "execution_count": 14,
   "id": "headed-turning",
   "metadata": {},
   "outputs": [
    {
     "name": "stdout",
     "output_type": "stream",
     "text": [
      "Char decoding accuracy: 34.64%\n",
      "Levenstein distace: 767\n"
     ]
    }
   ],
   "source": [
    "print(f\"Char decoding accuracy: {char_accuracy(tokenized_test, decoded_test) * 100:.2f}%\")\n",
    "print(f\"Levenstein distace: {levenstein_distance(tokenized_test, decoded_test)}\")"
   ]
  },
  {
   "cell_type": "markdown",
   "id": "expanded-castle",
   "metadata": {},
   "source": [
    "Частостный метод без модификаций не позволяет качественно декодировать текст."
   ]
  },
  {
   "cell_type": "markdown",
   "id": "returning-landing",
   "metadata": {},
   "source": [
    "А что по поводу английских текстов?"
   ]
  },
  {
   "cell_type": "code",
   "execution_count": 15,
   "id": "noble-shark",
   "metadata": {},
   "outputs": [],
   "source": [
    "with open(\"./data/WarAndPeaceEng.txt\", \"r\", encoding=\"utf8\") as file:\n",
    "    eng_text = file.readlines()\n",
    "\n",
    "tokenized_corpus_eng = tokenize(\" \".join(eng_text), tokenizer=tokenizer, alphabet=alphabet_eng)\n",
    "corpus_frequencies_eng = get_frequencies(tokenized_corpus_eng)\n",
    "mapping_eng = generate_random_mapping(corpus_frequencies_eng)"
   ]
  },
  {
   "cell_type": "code",
   "execution_count": 16,
   "id": "unexpected-experiment",
   "metadata": {},
   "outputs": [
    {
     "data": {
      "text/plain": [
       "'happy as petya was he felt sad at having to go home knowing that all the enjoyment of that day was over he did not go straight home from the kremlin but called on his friend obolenski who was fifteen and was also entering the regiment on returning home petya announced resolutely and firmly that if he was not allowed to enter the service he would run away and next day count ilya rostovthough he had not yet quite yieldedwent to inquire how he could arrange for petya to serve where there would be least danger'"
      ]
     },
     "execution_count": 16,
     "metadata": {},
     "output_type": "execute_result"
    }
   ],
   "source": [
    "with open(\"./data/task_1_test_eng.txt\", \"r\", encoding=\"utf8\") as file:\n",
    "    text = file.readlines()\n",
    "    \n",
    "tokenized_test = tokenize(\" \".join(text), tokenizer=tokenizer, alphabet=alphabet_eng)\n",
    "encoded_test = apply_mapping(tokenized_test, mapping_eng)\n",
    "test_frequencies_eng = get_frequencies(encoded_test)\n",
    "tokenized_test"
   ]
  },
  {
   "cell_type": "code",
   "execution_count": 17,
   "id": "relevant-forth",
   "metadata": {},
   "outputs": [
    {
     "data": {
      "text/plain": [
       "'xkss ckucsnh kcvkucxnconbhcuktckhcxklerqchgcqgcxgzncfrgverqchxkhckbbchxncnrpg znrhcgochxkhctk cvkucglnycxnctetcrghcqgcuhykeqxhcxgzncoygzchxncfynzbercdahcikbbntcgrcxeucoyenrtcgdgbnrufecvxgcvkucoeohnnrckrtcvkuckbugcnrhnyerqchxncynqeznrhcgrcynhayrerqcxgzncsnh kckrrgarintcynugbahnb ckrtcoeyzb chxkhceocxncvkucrghckbbgvntchgcnrhnychxncunyleincxncvgabtcyarckvk ckrtcrnjhctk cigarhceb kcyguhglhxgaqxcxncxktcrghc nhcwaehnc enbtntvnrhchgcerwaeyncxgvcxncigabtckyykrqncogycsnh kchgcunylncvxnynchxnyncvgabtcdncbnkuhctkrqny'"
      ]
     },
     "execution_count": 17,
     "metadata": {},
     "output_type": "execute_result"
    }
   ],
   "source": [
    "encoded_test"
   ]
  },
  {
   "cell_type": "code",
   "execution_count": 18,
   "id": "intimate-zoning",
   "metadata": {},
   "outputs": [
    {
     "data": {
      "text/plain": [
       "'savvu al vetua lal se fedt lad at savdau ta ua saye kaaldau tsat add tse eaxauyeat af tsat dau lal aver se ddd aat ua ltradust saye fray tse kreydda kut vadded aa sdl frdead akadealkd lsa lal fdfteea aad lal adla eaterdau tse reudyeat aa returadau saye vetua aaaauaved reladutedu aad fdrydu tsat df se lal aat addaled ta eater tse lervdve se laudd rua alau aad aext dau vauat ddua raltavtsauus se sad aat uet xudte udeddedleat ta daxudre sal se vaudd arraaue far vetua ta lerve lsere tsere laudd ke dealt daauer'"
      ]
     },
     "execution_count": 18,
     "metadata": {},
     "output_type": "execute_result"
    }
   ],
   "source": [
    "reverse_mapping = generate_reverse_mapping(corpus_frequencies_eng, test_frequencies_eng)\n",
    "decoded_test = apply_mapping(encoded_test, reverse_mapping)\n",
    "decoded_test"
   ]
  },
  {
   "cell_type": "code",
   "execution_count": 19,
   "id": "military-european",
   "metadata": {},
   "outputs": [
    {
     "name": "stdout",
     "output_type": "stream",
     "text": [
      "Char decoding accuracy: 58.51%\n",
      "Levenstein distace: 212\n"
     ]
    }
   ],
   "source": [
    "print(f\"Char decoding accuracy: {char_accuracy(tokenized_test, decoded_test) * 100:.2f}%\")\n",
    "print(f\"Levenstein distace: {levenstein_distance(tokenized_test, decoded_test)}\")"
   ]
  },
  {
   "cell_type": "markdown",
   "id": "comfortable-listening",
   "metadata": {},
   "source": [
    "В английском языке меньше букв, чем в русском и, возможно, по этой причине качество выше, т.к. проще \"попасть\" по частоте в правильные варианты проще."
   ]
  },
  {
   "cell_type": "markdown",
   "id": "recreational-array",
   "metadata": {},
   "source": [
    "## Задание 2"
   ]
  },
  {
   "cell_type": "markdown",
   "id": "electronic-squad",
   "metadata": {},
   "source": [
    "Вряд ли в результате получилась такая уж хорошая расшифровка, разве что если вы брали в качестве тестовых данных целые рассказы. Но и Шерлок Холмс был не так уж прост: после буквы E, которая действительно выделяется частотой, дальше он анализировал уже конкретные слова и пытался угадать, какими они могли бы быть. Я не знаю, как запрограммировать такой интуитивный анализ, так что давайте просто сделаем следующий логический шаг:\n",
    "- подсчитайте частоты биграмм (т.е. пар последовательных букв) по корпусам;\n",
    "- проведите тестирование аналогично п.1, но при помощи биграмм\n"
   ]
  },
  {
   "cell_type": "code",
   "execution_count": 27,
   "id": "32f712c3",
   "metadata": {},
   "outputs": [],
   "source": [
    "# read data\n",
    "\n",
    "with open(\"./data/AnnaKarenina.txt\", \"r\", encoding=\"utf8\") as file:\n",
    "    corpus_1 = file.readlines()\n",
    "    \n",
    "with open(\"./data/WarAndPeace.txt\", \"r\", encoding=\"utf8\") as file:\n",
    "    corpus_2 = file.readlines()\n",
    "    \n",
    "corpus = corpus_1 + corpus_2\n",
    "\n",
    "tokenized_corpus = tokenize(\" \".join(corpus))\n",
    "corpus_frequencies = get_frequencies(tokenized_corpus)\n",
    "mapping = generate_random_mapping(corpus_frequencies)"
   ]
  },
  {
   "cell_type": "code",
   "execution_count": 25,
   "id": "skilled-fisher",
   "metadata": {},
   "outputs": [],
   "source": [
    "corpus_frequencies_bigram = get_frequencies(tokenized_corpus, n_gram=2)\n",
    "test_frequencies_bigram = get_frequencies(encoded_test, n_gram=2)\n",
    "\n",
    "corpus_frequencies_sorted = sorted(corpus_frequencies_bigram.items(), key=lambda x: x[1], reverse=True)\n",
    "test_frequencies_sorted = sorted(test_frequencies_bigram.items(), key=lambda x: x[1], reverse=True)"
   ]
  },
  {
   "cell_type": "code",
   "execution_count": 26,
   "id": "atomic-cedar",
   "metadata": {},
   "outputs": [],
   "source": [
    "def generate_reverse_mapping_bigram(corpus_frequencies, text_frequencies):\n",
    "    corpus_frequencies_sorted = sorted(corpus_frequencies.items(), key=lambda x: x[1], reverse=True)\n",
    "    text_frequencies_sorted = sorted(text_frequencies.items(), key=lambda x: x[1], reverse=True)\n",
    "    \n",
    "    reverse_mapping = dict()\n",
    "    \n",
    "    for i, (text_bigram, text_freq) in enumerate(text_frequencies_sorted):\n",
    "        filtered_frequencies = copy(corpus_frequencies_sorted)\n",
    "        \n",
    "        if text_bigram[0] in reverse_mapping.keys():\n",
    "            filtered_frequencies = [(bigram, freq) for bigram, freq in filtered_frequencies \n",
    "                                    if bigram[0] == reverse_mapping[text_bigram[0]]]\n",
    "            \n",
    "        if text_bigram[1] in reverse_mapping.keys():\n",
    "            filtered_frequencies = [(bigram, freq) for bigram, freq in filtered_frequencies \n",
    "                                    if bigram[1] == reverse_mapping[text_bigram[1]]]\n",
    "            \n",
    "        min_diff = 1\n",
    "        best_bigram = None\n",
    "        for bigram, freq in filtered_frequencies:\n",
    "            diff = abs(freq - text_freq)\n",
    "            if diff < min_diff:\n",
    "                best_bigram = bigram\n",
    "                min_diff = diff\n",
    "        \n",
    "        if text_bigram[0] not in reverse_mapping.keys():\n",
    "            reverse_mapping[text_bigram[0]] = best_bigram[0]\n",
    "        \n",
    "        if text_bigram[1] not in reverse_mapping.keys():\n",
    "            reverse_mapping[text_bigram[1]] = best_bigram[1] \n",
    "    \n",
    "    return reverse_mapping"
   ]
  },
  {
   "cell_type": "code",
   "execution_count": 28,
   "id": "contemporary-toronto",
   "metadata": {},
   "outputs": [
    {
     "data": {
      "text/plain": [
       "'на следующий день государь остановился в вишау лейбмедик вилье несколько раз был призываем к нему в главной квартире и в ближайших войсках распространилось известие что государь был нездоров он ничего не ел и дурно спал эту ночь как говорили приближенные причина этого нездоровья заключалась в сильном впечатлении произведенном на чувствительную душу государя видом раненых и убитых на заре го числа в вишау был препровожден с аванпостов французский офицер приехавший под парламентерским флагом требуя свидания с русским императором офицер этот был савари государь только что заснул и потому савари должен был дожидаться в полдень он был допущен к государю и через час поехал вместе с князем долгоруковым на аванпосты французской армии как слышно было цель присылки савари состояла в предложении свидания императора александра с наполеоном в личном свидании к радости и гордости всей армии было отказано и вместо государя князь долгоруков победитель при вишау был отправлен вместе с савари для переговоров с наполеоном ежели переговоры эти против чаяния имели целью действительное желание мира ввечеру вернулся долгоруков прошел прямо к государю и долго пробыл у него наедине'"
      ]
     },
     "execution_count": 28,
     "metadata": {},
     "output_type": "execute_result"
    }
   ],
   "source": [
    "with open(\"./data/task_1_test_ru.txt\", \"r\", encoding=\"utf8\") as file:\n",
    "    text = file.readlines()\n",
    "    \n",
    "tokenized_test = tokenize(\" \".join(text))\n",
    "encoded_test = apply_mapping(tokenized_test, mapping)\n",
    "test_frequencies = get_frequencies(encoded_test)\n",
    "tokenized_test"
   ]
  },
  {
   "cell_type": "code",
   "execution_count": 29,
   "id": "falling-assurance",
   "metadata": {},
   "outputs": [
    {
     "data": {
      "text/plain": [
       "'насюлы чбьисс ын сютюч аь стюьанттилюястстиначслыстэы иостил ысныюотл отсьаистклсюьииктаыэсосныэчстсюлатнтссотаььиьысистстлиеасниосттсюоаосьаююьтюььанилтю сиитыюьиыс ьтсютюч аь стклсныи тьттстнсни ыютснысылсис чьнтсююалссьчснт  соаосютттьилисюьитлиеыннкысюьи инассьтютсныи тьтт ясиаолб алаю стсюил нтэстюы аьлыниисюьтииты ыннтэснас чтюьтиьыл нчбс чнчсютюч аьясти тэсьанынкосисчтиькоснасиаьысютс июластстиначстклсюьыюьттте ынсюсатанютюьттсяьанлчиюоисстяилыьсюьиыоатниссют сюаьлаэыньыьюоиэсялаютэсььытчясюти аниясюсьчююоиэсиэюыьаьтьтэстяилыьссьтьстклсюатаьисютюч аь сьтл отс ьтсиаюнчлсисютьтэчсюатаьис тлеынстклс теи аь юястсютл ын стнстклс тючьынсосютюч аьбсис ыьыис аюсютыоалстэыюьысюсоняиыэс тлютьчотткэснасатанютюьксяьанлчиюотссаьэиисоаосюлкннтстклтслыл сюьиюклоисюатаьисютюьтяластсюьы лтеыниисюти аниясиэюыьаьтьасалыоюан ьасюснаютлытнтэстсли нтэсюти аниисосьа тюьисисють тюьистюыссаьэиистклтстьоаиантсистэыюьтсютюч аьясоняи с тлютьчоттсютты иьыл сюьистиначстклстьюьатлынстэыюьысюсюатаьис лясюыьыютттьттсюснаютлытнтэсыеылисюыьыютттькссьисюьтьитс аяниясиэылислыл бс ысюьтиьыл нтысеыланиысэиьастты ыьчстыьнчлюяс тлютьчоттсюьтнылсюьяэтсосютюч аьбсис тлютсюьттклсчсныютснаы ины'"
      ]
     },
     "execution_count": 29,
     "metadata": {},
     "output_type": "execute_result"
    }
   ],
   "source": [
    "reverse_mapping_bigram = generate_reverse_mapping_bigram(corpus_frequencies_bigram, test_frequencies_bigram)\n",
    "decoded_test = apply_mapping(encoded_test, reverse_mapping_bigram)\n",
    "decoded_test"
   ]
  },
  {
   "cell_type": "code",
   "execution_count": 30,
   "id": "connected-macintosh",
   "metadata": {},
   "outputs": [
    {
     "name": "stdout",
     "output_type": "stream",
     "text": [
      "Char decoding accuracy: 24.94%\n",
      "Levenstein distace: 869\n"
     ]
    }
   ],
   "source": [
    "print(f\"Char decoding accuracy: {char_accuracy(tokenized_test, decoded_test) * 100:.2f}%\")\n",
    "print(f\"Levenstein distace: {levenstein_distance(tokenized_test, decoded_test)}\")"
   ]
  },
  {
   "cell_type": "markdown",
   "id": "atomic-garage",
   "metadata": {},
   "source": [
    "Метод частотных биграмм работает еще хуже, чем посимвольный частотный по тем же причинам: вариантов гораздо больше."
   ]
  },
  {
   "cell_type": "markdown",
   "id": "disabled-detective",
   "metadata": {},
   "source": [
    "## Задание 3"
   ]
  },
  {
   "cell_type": "markdown",
   "id": "banner-familiar",
   "metadata": {},
   "source": [
    "Но и это ещё не всё: биграммы скорее всего тоже далеко не всегда работают. Основная часть задания — в том, как можно их улучшить:\n",
    "- предложите метод обучения перестановки символов в этом задании, основанный на MCMC-сэмплировании, но по-прежнему работающий на основе статистики биграмм;\n",
    "- реализуйте и протестируйте его, убедитесь, что результаты улучшились.\n"
   ]
  },
  {
   "cell_type": "markdown",
   "id": "judicial-executive",
   "metadata": {},
   "source": [
    "**Метод:**<br>\n",
    "Биграммы в тексте - звенья марковской цепи, а частота биграмм - вероятность перехода.\n",
    "Для обучения считается вероятность порождение текста как произведение всех биграмм, входящих в него.\n"
   ]
  },
  {
   "cell_type": "code",
   "execution_count": 31,
   "id": "romantic-ebony",
   "metadata": {},
   "outputs": [],
   "source": [
    "def get_frequencies(text, min_freq=0, n_gram=2):\n",
    "    frequencies = dict()\n",
    "    length = len(set(text)) ** n_gram # all possible n_grams\n",
    "    \n",
    "    text = [\"\".join(ngram) for ngram in everygrams(text, min_len=n_gram, max_len=n_gram)]\n",
    "    for key, value in Counter(text).items():\n",
    "        frequencies[key] = (value + 1) / (len(text) + length) # to avoid absent n_grams\n",
    "        \n",
    "    return frequencies"
   ]
  },
  {
   "cell_type": "code",
   "execution_count": 32,
   "id": "ordinary-roberts",
   "metadata": {},
   "outputs": [],
   "source": [
    "def get_text_probability(text, mapping, frequencies, n_gram=2, alphabet=alphabet_ru):\n",
    "    decoded_text = apply_mapping(text, mapping)\n",
    "    \n",
    "    log_probability = 0\n",
    "    for i in range(len(decoded_text) - n_gram):\n",
    "        bigram = decoded_text[i: i + n_gram]\n",
    "        absent_bigram_probability = 1 / (len(text) + len(alphabet) ** n_gram) # to avoid 0 probs\n",
    "        bigram_probability = frequencies.get(bigram, absent_bigram_probability)\n",
    "        \n",
    "        log_probability += np.log(bigram_probability)\n",
    "    \n",
    "    return log_probability"
   ]
  },
  {
   "cell_type": "code",
   "execution_count": 187,
   "id": "premium-conflict",
   "metadata": {},
   "outputs": [],
   "source": [
    "def generate_mcmc_reverse_mapping(encoded_text, alphabet_encoded, alphabet_corpus, corpus_frequencies, \n",
    "                                  n_iters=10000, epochs=10, n_gram=2, verbose=True):\n",
    "    \n",
    "    accepted = 0\n",
    "    best_mapping = None\n",
    "    best_ll = -np.inf # log-likelihood for scoring\n",
    "    \n",
    "    for epoch in range(epochs):\n",
    "        \n",
    "        alphabet_encoded = list(alphabet_encoded)\n",
    "        alphabet_iter = list(alphabet_corpus)\n",
    "        reverse_mapping = {key: value for key, value \n",
    "                               in zip(alphabet_encoded, alphabet_iter[:len(alphabet_encoded)])}\n",
    "        current_log_probability = get_text_probability(encoded_text, reverse_mapping, corpus_frequencies, n_gram=n_gram)\n",
    "        \n",
    "        for i in tqdm(range(n_iters), total=n_iters, leave=False, disable=not verbose):\n",
    "            alphabet_proposal = alphabet_iter[:]\n",
    "            idx_1, idx_2 = np.random.choice(len(alphabet_proposal), replace=False, size=2)\n",
    "            alphabet_proposal[idx_1], alphabet_proposal[idx_2] = alphabet_proposal[idx_2], alphabet_proposal[idx_1]\n",
    "            reverse_mapping_proposal = {key: value for key, value \n",
    "                               in zip(alphabet_encoded, alphabet_proposal[:len(alphabet_encoded)])}\n",
    "            proposal_log_probability = get_text_probability(encoded_text, reverse_mapping_proposal, corpus_frequencies, n_gram=n_gram)\n",
    "            \n",
    "            p_accept = np.exp(proposal_log_probability - current_log_probability)\n",
    "            \n",
    "            if p_accept > np.random.rand():\n",
    "                accepted += 1\n",
    "                alphabet_iter = alphabet_proposal\n",
    "                current_log_probability = proposal_log_probability\n",
    "                reverse_mapping = reverse_mapping_proposal\n",
    "                \n",
    "        if current_log_probability > best_ll:\n",
    "            best_ll = current_log_probability\n",
    "            best_mapping = reverse_mapping\n",
    "        print(f\"Epoch #{epoch + 1}\")\n",
    "        print(f\"Current log-likelihood: {current_log_probability}\")\n",
    "        print(f\"Current accepted proposals: {accepted}\")\n",
    " \n",
    "    print(f\"Best likelihood: {best_ll}\")\n",
    "    print(f\"Acceptance ratio: {accepted / (n_iters * epochs)}\")\n",
    "\n",
    "    return best_mapping"
   ]
  },
  {
   "cell_type": "code",
   "execution_count": 56,
   "id": "virgin-dream",
   "metadata": {},
   "outputs": [],
   "source": [
    "corpus_frequencies = get_frequencies(tokenized_corpus, n_gram=2)"
   ]
  },
  {
   "cell_type": "code",
   "execution_count": 64,
   "id": "working-mobile",
   "metadata": {},
   "outputs": [],
   "source": [
    "EPOCHS = 5"
   ]
  },
  {
   "cell_type": "code",
   "execution_count": 65,
   "id": "increased-africa",
   "metadata": {},
   "outputs": [
    {
     "data": {
      "application/vnd.jupyter.widget-view+json": {
       "model_id": "",
       "version_major": 2,
       "version_minor": 0
      },
      "text/plain": [
       "  0%|          | 0/10000 [00:00<?, ?it/s]"
      ]
     },
     "metadata": {},
     "output_type": "display_data"
    },
    {
     "name": "stdout",
     "output_type": "stream",
     "text": [
      "Epoch #1\n",
      "Current log-likelihood: -6725.3750723424455\n",
      "Current accepted proposals: 97\n"
     ]
    },
    {
     "data": {
      "application/vnd.jupyter.widget-view+json": {
       "model_id": "",
       "version_major": 2,
       "version_minor": 0
      },
      "text/plain": [
       "  0%|          | 0/10000 [00:00<?, ?it/s]"
      ]
     },
     "metadata": {},
     "output_type": "display_data"
    },
    {
     "name": "stdout",
     "output_type": "stream",
     "text": [
      "Epoch #2\n",
      "Current log-likelihood: -6573.68144094178\n",
      "Current accepted proposals: 239\n"
     ]
    },
    {
     "data": {
      "application/vnd.jupyter.widget-view+json": {
       "model_id": "",
       "version_major": 2,
       "version_minor": 0
      },
      "text/plain": [
       "  0%|          | 0/10000 [00:00<?, ?it/s]"
      ]
     },
     "metadata": {},
     "output_type": "display_data"
    },
    {
     "name": "stdout",
     "output_type": "stream",
     "text": [
      "Epoch #3\n",
      "Current log-likelihood: -7377.9340985962035\n",
      "Current accepted proposals: 340\n"
     ]
    },
    {
     "data": {
      "application/vnd.jupyter.widget-view+json": {
       "model_id": "",
       "version_major": 2,
       "version_minor": 0
      },
      "text/plain": [
       "  0%|          | 0/10000 [00:00<?, ?it/s]"
      ]
     },
     "metadata": {},
     "output_type": "display_data"
    },
    {
     "name": "stdout",
     "output_type": "stream",
     "text": [
      "Epoch #4\n",
      "Current log-likelihood: -6573.68144094178\n",
      "Current accepted proposals: 460\n"
     ]
    },
    {
     "data": {
      "application/vnd.jupyter.widget-view+json": {
       "model_id": "",
       "version_major": 2,
       "version_minor": 0
      },
      "text/plain": [
       "  0%|          | 0/10000 [00:00<?, ?it/s]"
      ]
     },
     "metadata": {},
     "output_type": "display_data"
    },
    {
     "name": "stdout",
     "output_type": "stream",
     "text": [
      "Epoch #5\n",
      "Current log-likelihood: -6573.68144094178\n",
      "Current accepted proposals: 582\n",
      "Best likelihood: -6573.68144094178\n",
      "Acceptance ratio: 0.01164\n"
     ]
    }
   ],
   "source": [
    "reverse_mapping = generate_mcmc_reverse_mapping(encoded_test, alphabet_ru, alphabet_ru, corpus_frequencies, epochs=EPOCHS)"
   ]
  },
  {
   "cell_type": "code",
   "execution_count": 66,
   "id": "convertible-necklace",
   "metadata": {},
   "outputs": [],
   "source": [
    "decoded_test = apply_mapping(encoded_test, reverse_mapping)"
   ]
  },
  {
   "cell_type": "code",
   "execution_count": 69,
   "id": "36fa3042",
   "metadata": {},
   "outputs": [
    {
     "data": {
      "text/plain": [
       "'на следующий день государь остановился в вишау лейбмедик вилье несколько раз был призываем к нему в главной квартире и в ближайших войсках распространилось известие что государь был нездоров он ничего не ел и дурно спал эту ночь как говорили приближенные причина этого нездоровья заключалась в сильном впечатлении произведенном на чувствительную душу государя видом раненых и убитых на заре го числа в вишау был препровожден с аванпостов французский офицер приехавший под парламентерским флагом требуя свидания с русским императором офицер этот был савари государь только что заснул и потому савари должен был дожидаться в полдень он был допущен к государю и через час поехал вместе с князем долгоруковым на аванпосты французской армии как слышно было цель присылки савари состояла в предложении свидания императора александра с наполеоном в личном свидании к радости и гордости всей армии было отказано и вместо государя князь долгоруков победитель при вишау был отправлен вместе с савари для переговоров с наполеоном ежели переговоры эти против чаяния имели целью действительное желание мира ввечеру вернулся долгоруков прошел прямо к государю и долго пробыл у него наедине'"
      ]
     },
     "execution_count": 69,
     "metadata": {},
     "output_type": "execute_result"
    }
   ],
   "source": [
    "decoded_test"
   ]
  },
  {
   "cell_type": "code",
   "execution_count": 67,
   "id": "guided-professor",
   "metadata": {},
   "outputs": [
    {
     "name": "stdout",
     "output_type": "stream",
     "text": [
      "Char decoding accuracy: 100.00%\n",
      "Levenstein distace: 0\n"
     ]
    }
   ],
   "source": [
    "print(f\"Char decoding accuracy: {char_accuracy(tokenized_test, decoded_test) * 100:.2f}%\")\n",
    "print(f\"Levenstein distace: {levenstein_distance(tokenized_test, decoded_test)}\")"
   ]
  },
  {
   "cell_type": "markdown",
   "id": "5b6ed97d",
   "metadata": {},
   "source": [
    "Текст расшифрован, метрики идеальные."
   ]
  },
  {
   "cell_type": "markdown",
   "id": "demanding-delight",
   "metadata": {},
   "source": [
    "## Задание 4"
   ]
  },
  {
   "cell_type": "markdown",
   "id": "narrow-venezuela",
   "metadata": {},
   "source": [
    "Расшифруйте сообщение:"
   ]
  },
  {
   "cell_type": "code",
   "execution_count": 134,
   "id": "average-limitation",
   "metadata": {},
   "outputs": [],
   "source": [
    "message_1 = \"←⇠⇒↟↹↷⇊↹↷↟↤↟↨←↹↝⇛⇯↳⇴⇒⇈↝⇊↾↹↟⇒↟↹⇷⇛⇞↨↟↹↝⇛⇯↳⇴⇒⇈↝⇊↾↹↨←⇌⇠↨↹⇙↹⇸↨⇛↙⇛↹⇠⇛⇛↲⇆←↝↟↞↹⇌⇛↨⇛⇯⇊↾↹⇒←↙⇌⇛↹⇷⇯⇛⇞↟↨⇴↨⇈↹⇠⇌⇛⇯←←↹↷⇠←↙⇛↹↷⇊↹↷⇠←↹⇠↤←⇒⇴⇒↟↹⇷⇯⇴↷↟⇒⇈↝⇛↹↟↹⇷⇛⇒⇙⇞↟↨←↹↳⇴⇌⇠↟↳⇴⇒⇈↝⇊↾↹↲⇴⇒⇒↹⇰⇴↹⇷⇛⇠⇒←↤↝←←↹⇞←↨↷←⇯↨⇛←↹⇰⇴↤⇴↝↟←↹⇌⇙⇯⇠⇴↹↘⇛↨↞↹⇌⇛↝←⇞↝⇛↹↞↹↝↟⇞←↙⇛↹↝←↹⇛↲←⇆⇴⇏\"\n",
    "message_2 = \"დჳჵჂႨშႼႨშჂხჂჲდႨსႹႭჾႣჵისႼჰႨჂჵჂႨႲႹႧჲჂႨსႹႭჾႣჵისႼჰႨჲდႩჳჲႨჇႨႠჲႹქႹႨჳႹႹჱჶდსჂႽႨႩႹჲႹႭႼჰႨჵდქႩႹႨႲႭႹႧჂჲႣჲიႨჳႩႹႭდდႨშჳდქႹႨშႼႨშჳდႨჳხდჵႣჵჂႨႲႭႣშჂჵისႹႨჂႨႲႹჵჇႧჂჲდႨჾႣႩჳჂჾႣჵისႼჰႨჱႣჵჵႨეႣႨႲႹჳჵდხსდდႨႧდჲშდႭჲႹდႨეႣხႣსჂდႨႩჇႭჳႣႨႾႹჲႽႨႩႹსდႧსႹႨႽႨსჂႧდქႹႨსდႨႹჱდჶႣნ\""
   ]
  },
  {
   "cell_type": "code",
   "execution_count": 135,
   "id": "65c2cce3",
   "metadata": {},
   "outputs": [],
   "source": [
    "corpus_frequencies = get_frequencies(tokenized_corpus, n_gram=2)\n",
    "message_frequencies = get_frequencies(message_1, n_gram=2)"
   ]
  },
  {
   "cell_type": "code",
   "execution_count": 136,
   "id": "electrical-islam",
   "metadata": {},
   "outputs": [],
   "source": [
    "corpus_frequencies_sorted = sorted(corpus_frequencies.items(), key=lambda x: x[1], reverse=True)\n",
    "message_frequencies_sorted = sorted(message_frequencies.items(), key=lambda x: x[1], reverse=True)"
   ]
  },
  {
   "cell_type": "code",
   "execution_count": 146,
   "id": "absent-planning",
   "metadata": {},
   "outputs": [],
   "source": [
    "alphabet_message = \" \" + \"\".join([char for char in set(message_1)])"
   ]
  },
  {
   "cell_type": "code",
   "execution_count": 148,
   "id": "14933a77",
   "metadata": {},
   "outputs": [],
   "source": [
    "EPOCHS = 50"
   ]
  },
  {
   "cell_type": "code",
   "execution_count": 149,
   "id": "d864959c",
   "metadata": {},
   "outputs": [
    {
     "data": {
      "application/vnd.jupyter.widget-view+json": {
       "model_id": "",
       "version_major": 2,
       "version_minor": 0
      },
      "text/plain": [
       "  0%|          | 0/10000 [00:00<?, ?it/s]"
      ]
     },
     "metadata": {},
     "output_type": "display_data"
    },
    {
     "name": "stdout",
     "output_type": "stream",
     "text": [
      "Epoch #1\n",
      "Current log-likelihood: -1361.3459252159712\n",
      "Current accepted proposals: 546\n"
     ]
    },
    {
     "data": {
      "application/vnd.jupyter.widget-view+json": {
       "model_id": "",
       "version_major": 2,
       "version_minor": 0
      },
      "text/plain": [
       "  0%|          | 0/10000 [00:00<?, ?it/s]"
      ]
     },
     "metadata": {},
     "output_type": "display_data"
    },
    {
     "name": "stdout",
     "output_type": "stream",
     "text": [
      "Epoch #2\n",
      "Current log-likelihood: -1267.0379756685018\n",
      "Current accepted proposals: 1112\n"
     ]
    },
    {
     "data": {
      "application/vnd.jupyter.widget-view+json": {
       "model_id": "",
       "version_major": 2,
       "version_minor": 0
      },
      "text/plain": [
       "  0%|          | 0/10000 [00:00<?, ?it/s]"
      ]
     },
     "metadata": {},
     "output_type": "display_data"
    },
    {
     "name": "stdout",
     "output_type": "stream",
     "text": [
      "Epoch #3\n",
      "Current log-likelihood: -1311.7566065344156\n",
      "Current accepted proposals: 1558\n"
     ]
    },
    {
     "data": {
      "application/vnd.jupyter.widget-view+json": {
       "model_id": "",
       "version_major": 2,
       "version_minor": 0
      },
      "text/plain": [
       "  0%|          | 0/10000 [00:00<?, ?it/s]"
      ]
     },
     "metadata": {},
     "output_type": "display_data"
    },
    {
     "name": "stdout",
     "output_type": "stream",
     "text": [
      "Epoch #4\n",
      "Current log-likelihood: -1255.9799553052023\n",
      "Current accepted proposals: 2055\n"
     ]
    },
    {
     "data": {
      "application/vnd.jupyter.widget-view+json": {
       "model_id": "",
       "version_major": 2,
       "version_minor": 0
      },
      "text/plain": [
       "  0%|          | 0/10000 [00:00<?, ?it/s]"
      ]
     },
     "metadata": {},
     "output_type": "display_data"
    },
    {
     "name": "stdout",
     "output_type": "stream",
     "text": [
      "Epoch #5\n",
      "Current log-likelihood: -1400.8748855864644\n",
      "Current accepted proposals: 2520\n"
     ]
    },
    {
     "data": {
      "application/vnd.jupyter.widget-view+json": {
       "model_id": "",
       "version_major": 2,
       "version_minor": 0
      },
      "text/plain": [
       "  0%|          | 0/10000 [00:00<?, ?it/s]"
      ]
     },
     "metadata": {},
     "output_type": "display_data"
    },
    {
     "name": "stdout",
     "output_type": "stream",
     "text": [
      "Epoch #6\n",
      "Current log-likelihood: -1231.2547551943435\n",
      "Current accepted proposals: 3041\n"
     ]
    },
    {
     "data": {
      "application/vnd.jupyter.widget-view+json": {
       "model_id": "",
       "version_major": 2,
       "version_minor": 0
      },
      "text/plain": [
       "  0%|          | 0/10000 [00:00<?, ?it/s]"
      ]
     },
     "metadata": {},
     "output_type": "display_data"
    },
    {
     "name": "stdout",
     "output_type": "stream",
     "text": [
      "Epoch #7\n",
      "Current log-likelihood: -1259.755845490201\n",
      "Current accepted proposals: 3526\n"
     ]
    },
    {
     "data": {
      "application/vnd.jupyter.widget-view+json": {
       "model_id": "",
       "version_major": 2,
       "version_minor": 0
      },
      "text/plain": [
       "  0%|          | 0/10000 [00:00<?, ?it/s]"
      ]
     },
     "metadata": {},
     "output_type": "display_data"
    },
    {
     "name": "stdout",
     "output_type": "stream",
     "text": [
      "Epoch #8\n",
      "Current log-likelihood: -1231.2547551943435\n",
      "Current accepted proposals: 4026\n"
     ]
    },
    {
     "data": {
      "application/vnd.jupyter.widget-view+json": {
       "model_id": "",
       "version_major": 2,
       "version_minor": 0
      },
      "text/plain": [
       "  0%|          | 0/10000 [00:00<?, ?it/s]"
      ]
     },
     "metadata": {},
     "output_type": "display_data"
    },
    {
     "name": "stdout",
     "output_type": "stream",
     "text": [
      "Epoch #9\n",
      "Current log-likelihood: -1359.0786352295072\n",
      "Current accepted proposals: 4569\n"
     ]
    },
    {
     "data": {
      "application/vnd.jupyter.widget-view+json": {
       "model_id": "",
       "version_major": 2,
       "version_minor": 0
      },
      "text/plain": [
       "  0%|          | 0/10000 [00:00<?, ?it/s]"
      ]
     },
     "metadata": {},
     "output_type": "display_data"
    },
    {
     "name": "stdout",
     "output_type": "stream",
     "text": [
      "Epoch #10\n",
      "Current log-likelihood: -1286.6878264498437\n",
      "Current accepted proposals: 4979\n"
     ]
    },
    {
     "data": {
      "application/vnd.jupyter.widget-view+json": {
       "model_id": "",
       "version_major": 2,
       "version_minor": 0
      },
      "text/plain": [
       "  0%|          | 0/10000 [00:00<?, ?it/s]"
      ]
     },
     "metadata": {},
     "output_type": "display_data"
    },
    {
     "name": "stdout",
     "output_type": "stream",
     "text": [
      "Epoch #11\n",
      "Current log-likelihood: -1359.7934467492466\n",
      "Current accepted proposals: 5468\n"
     ]
    },
    {
     "data": {
      "application/vnd.jupyter.widget-view+json": {
       "model_id": "",
       "version_major": 2,
       "version_minor": 0
      },
      "text/plain": [
       "  0%|          | 0/10000 [00:00<?, ?it/s]"
      ]
     },
     "metadata": {},
     "output_type": "display_data"
    },
    {
     "name": "stdout",
     "output_type": "stream",
     "text": [
      "Epoch #12\n",
      "Current log-likelihood: -1420.4875346487745\n",
      "Current accepted proposals: 6011\n"
     ]
    },
    {
     "data": {
      "application/vnd.jupyter.widget-view+json": {
       "model_id": "",
       "version_major": 2,
       "version_minor": 0
      },
      "text/plain": [
       "  0%|          | 0/10000 [00:00<?, ?it/s]"
      ]
     },
     "metadata": {},
     "output_type": "display_data"
    },
    {
     "name": "stdout",
     "output_type": "stream",
     "text": [
      "Epoch #13\n",
      "Current log-likelihood: -1356.7285813409983\n",
      "Current accepted proposals: 6450\n"
     ]
    },
    {
     "data": {
      "application/vnd.jupyter.widget-view+json": {
       "model_id": "",
       "version_major": 2,
       "version_minor": 0
      },
      "text/plain": [
       "  0%|          | 0/10000 [00:00<?, ?it/s]"
      ]
     },
     "metadata": {},
     "output_type": "display_data"
    },
    {
     "name": "stdout",
     "output_type": "stream",
     "text": [
      "Epoch #14\n",
      "Current log-likelihood: -1234.7738111271335\n",
      "Current accepted proposals: 6910\n"
     ]
    },
    {
     "data": {
      "application/vnd.jupyter.widget-view+json": {
       "model_id": "",
       "version_major": 2,
       "version_minor": 0
      },
      "text/plain": [
       "  0%|          | 0/10000 [00:00<?, ?it/s]"
      ]
     },
     "metadata": {},
     "output_type": "display_data"
    },
    {
     "name": "stdout",
     "output_type": "stream",
     "text": [
      "Epoch #15\n",
      "Current log-likelihood: -1342.1437443445664\n",
      "Current accepted proposals: 7326\n"
     ]
    },
    {
     "data": {
      "application/vnd.jupyter.widget-view+json": {
       "model_id": "",
       "version_major": 2,
       "version_minor": 0
      },
      "text/plain": [
       "  0%|          | 0/10000 [00:00<?, ?it/s]"
      ]
     },
     "metadata": {},
     "output_type": "display_data"
    },
    {
     "name": "stdout",
     "output_type": "stream",
     "text": [
      "Epoch #16\n",
      "Current log-likelihood: -1231.2547551943435\n",
      "Current accepted proposals: 7812\n"
     ]
    },
    {
     "data": {
      "application/vnd.jupyter.widget-view+json": {
       "model_id": "",
       "version_major": 2,
       "version_minor": 0
      },
      "text/plain": [
       "  0%|          | 0/10000 [00:00<?, ?it/s]"
      ]
     },
     "metadata": {},
     "output_type": "display_data"
    },
    {
     "name": "stdout",
     "output_type": "stream",
     "text": [
      "Epoch #17\n",
      "Current log-likelihood: -1398.6148206237897\n",
      "Current accepted proposals: 8243\n"
     ]
    },
    {
     "data": {
      "application/vnd.jupyter.widget-view+json": {
       "model_id": "",
       "version_major": 2,
       "version_minor": 0
      },
      "text/plain": [
       "  0%|          | 0/10000 [00:00<?, ?it/s]"
      ]
     },
     "metadata": {},
     "output_type": "display_data"
    },
    {
     "name": "stdout",
     "output_type": "stream",
     "text": [
      "Epoch #18\n",
      "Current log-likelihood: -1288.0096016689627\n",
      "Current accepted proposals: 8703\n"
     ]
    },
    {
     "data": {
      "application/vnd.jupyter.widget-view+json": {
       "model_id": "",
       "version_major": 2,
       "version_minor": 0
      },
      "text/plain": [
       "  0%|          | 0/10000 [00:00<?, ?it/s]"
      ]
     },
     "metadata": {},
     "output_type": "display_data"
    },
    {
     "name": "stdout",
     "output_type": "stream",
     "text": [
      "Epoch #19\n",
      "Current log-likelihood: -1271.4715372089681\n",
      "Current accepted proposals: 9221\n"
     ]
    },
    {
     "data": {
      "application/vnd.jupyter.widget-view+json": {
       "model_id": "",
       "version_major": 2,
       "version_minor": 0
      },
      "text/plain": [
       "  0%|          | 0/10000 [00:00<?, ?it/s]"
      ]
     },
     "metadata": {},
     "output_type": "display_data"
    },
    {
     "name": "stdout",
     "output_type": "stream",
     "text": [
      "Epoch #20\n",
      "Current log-likelihood: -1353.8916060399324\n",
      "Current accepted proposals: 9700\n"
     ]
    },
    {
     "data": {
      "application/vnd.jupyter.widget-view+json": {
       "model_id": "",
       "version_major": 2,
       "version_minor": 0
      },
      "text/plain": [
       "  0%|          | 0/10000 [00:00<?, ?it/s]"
      ]
     },
     "metadata": {},
     "output_type": "display_data"
    },
    {
     "name": "stdout",
     "output_type": "stream",
     "text": [
      "Epoch #21\n",
      "Current log-likelihood: -1270.2408013777674\n",
      "Current accepted proposals: 10148\n"
     ]
    },
    {
     "data": {
      "application/vnd.jupyter.widget-view+json": {
       "model_id": "",
       "version_major": 2,
       "version_minor": 0
      },
      "text/plain": [
       "  0%|          | 0/10000 [00:00<?, ?it/s]"
      ]
     },
     "metadata": {},
     "output_type": "display_data"
    },
    {
     "name": "stdout",
     "output_type": "stream",
     "text": [
      "Epoch #22\n",
      "Current log-likelihood: -1257.2851994174293\n",
      "Current accepted proposals: 10660\n"
     ]
    },
    {
     "data": {
      "application/vnd.jupyter.widget-view+json": {
       "model_id": "",
       "version_major": 2,
       "version_minor": 0
      },
      "text/plain": [
       "  0%|          | 0/10000 [00:00<?, ?it/s]"
      ]
     },
     "metadata": {},
     "output_type": "display_data"
    },
    {
     "name": "stdout",
     "output_type": "stream",
     "text": [
      "Epoch #23\n",
      "Current log-likelihood: -1248.8951086367867\n",
      "Current accepted proposals: 11143\n"
     ]
    },
    {
     "data": {
      "application/vnd.jupyter.widget-view+json": {
       "model_id": "",
       "version_major": 2,
       "version_minor": 0
      },
      "text/plain": [
       "  0%|          | 0/10000 [00:00<?, ?it/s]"
      ]
     },
     "metadata": {},
     "output_type": "display_data"
    },
    {
     "name": "stdout",
     "output_type": "stream",
     "text": [
      "Epoch #24\n",
      "Current log-likelihood: -1398.615923716742\n",
      "Current accepted proposals: 11637\n"
     ]
    },
    {
     "data": {
      "application/vnd.jupyter.widget-view+json": {
       "model_id": "",
       "version_major": 2,
       "version_minor": 0
      },
      "text/plain": [
       "  0%|          | 0/10000 [00:00<?, ?it/s]"
      ]
     },
     "metadata": {},
     "output_type": "display_data"
    },
    {
     "name": "stdout",
     "output_type": "stream",
     "text": [
      "Epoch #25\n",
      "Current log-likelihood: -1236.6662004127843\n",
      "Current accepted proposals: 12126\n"
     ]
    },
    {
     "data": {
      "application/vnd.jupyter.widget-view+json": {
       "model_id": "",
       "version_major": 2,
       "version_minor": 0
      },
      "text/plain": [
       "  0%|          | 0/10000 [00:00<?, ?it/s]"
      ]
     },
     "metadata": {},
     "output_type": "display_data"
    },
    {
     "name": "stdout",
     "output_type": "stream",
     "text": [
      "Epoch #26\n",
      "Current log-likelihood: -1399.0268791427463\n",
      "Current accepted proposals: 12643\n"
     ]
    },
    {
     "data": {
      "application/vnd.jupyter.widget-view+json": {
       "model_id": "",
       "version_major": 2,
       "version_minor": 0
      },
      "text/plain": [
       "  0%|          | 0/10000 [00:00<?, ?it/s]"
      ]
     },
     "metadata": {},
     "output_type": "display_data"
    },
    {
     "name": "stdout",
     "output_type": "stream",
     "text": [
      "Epoch #27\n",
      "Current log-likelihood: -1235.2381794965495\n",
      "Current accepted proposals: 13117\n"
     ]
    },
    {
     "data": {
      "application/vnd.jupyter.widget-view+json": {
       "model_id": "",
       "version_major": 2,
       "version_minor": 0
      },
      "text/plain": [
       "  0%|          | 0/10000 [00:00<?, ?it/s]"
      ]
     },
     "metadata": {},
     "output_type": "display_data"
    },
    {
     "name": "stdout",
     "output_type": "stream",
     "text": [
      "Epoch #28\n",
      "Current log-likelihood: -1366.3123874672651\n",
      "Current accepted proposals: 13587\n"
     ]
    },
    {
     "data": {
      "application/vnd.jupyter.widget-view+json": {
       "model_id": "",
       "version_major": 2,
       "version_minor": 0
      },
      "text/plain": [
       "  0%|          | 0/10000 [00:00<?, ?it/s]"
      ]
     },
     "metadata": {},
     "output_type": "display_data"
    },
    {
     "name": "stdout",
     "output_type": "stream",
     "text": [
      "Epoch #29\n",
      "Current log-likelihood: -1353.3827908456974\n",
      "Current accepted proposals: 14078\n"
     ]
    },
    {
     "data": {
      "application/vnd.jupyter.widget-view+json": {
       "model_id": "",
       "version_major": 2,
       "version_minor": 0
      },
      "text/plain": [
       "  0%|          | 0/10000 [00:00<?, ?it/s]"
      ]
     },
     "metadata": {},
     "output_type": "display_data"
    },
    {
     "name": "stdout",
     "output_type": "stream",
     "text": [
      "Epoch #30\n",
      "Current log-likelihood: -1396.781069476517\n",
      "Current accepted proposals: 14545\n"
     ]
    },
    {
     "data": {
      "application/vnd.jupyter.widget-view+json": {
       "model_id": "",
       "version_major": 2,
       "version_minor": 0
      },
      "text/plain": [
       "  0%|          | 0/10000 [00:00<?, ?it/s]"
      ]
     },
     "metadata": {},
     "output_type": "display_data"
    },
    {
     "name": "stdout",
     "output_type": "stream",
     "text": [
      "Epoch #31\n",
      "Current log-likelihood: -1259.9343057680474\n",
      "Current accepted proposals: 14999\n"
     ]
    },
    {
     "data": {
      "application/vnd.jupyter.widget-view+json": {
       "model_id": "",
       "version_major": 2,
       "version_minor": 0
      },
      "text/plain": [
       "  0%|          | 0/10000 [00:00<?, ?it/s]"
      ]
     },
     "metadata": {},
     "output_type": "display_data"
    },
    {
     "name": "stdout",
     "output_type": "stream",
     "text": [
      "Epoch #32\n",
      "Current log-likelihood: -1366.5095227652826\n",
      "Current accepted proposals: 15495\n"
     ]
    },
    {
     "data": {
      "application/vnd.jupyter.widget-view+json": {
       "model_id": "",
       "version_major": 2,
       "version_minor": 0
      },
      "text/plain": [
       "  0%|          | 0/10000 [00:00<?, ?it/s]"
      ]
     },
     "metadata": {},
     "output_type": "display_data"
    },
    {
     "name": "stdout",
     "output_type": "stream",
     "text": [
      "Epoch #33\n",
      "Current log-likelihood: -1388.0205514697714\n",
      "Current accepted proposals: 15973\n"
     ]
    },
    {
     "data": {
      "application/vnd.jupyter.widget-view+json": {
       "model_id": "",
       "version_major": 2,
       "version_minor": 0
      },
      "text/plain": [
       "  0%|          | 0/10000 [00:00<?, ?it/s]"
      ]
     },
     "metadata": {},
     "output_type": "display_data"
    },
    {
     "name": "stdout",
     "output_type": "stream",
     "text": [
      "Epoch #34\n",
      "Current log-likelihood: -1373.5393920358056\n",
      "Current accepted proposals: 16492\n"
     ]
    },
    {
     "data": {
      "application/vnd.jupyter.widget-view+json": {
       "model_id": "",
       "version_major": 2,
       "version_minor": 0
      },
      "text/plain": [
       "  0%|          | 0/10000 [00:00<?, ?it/s]"
      ]
     },
     "metadata": {},
     "output_type": "display_data"
    },
    {
     "name": "stdout",
     "output_type": "stream",
     "text": [
      "Epoch #35\n",
      "Current log-likelihood: -1264.567526820968\n",
      "Current accepted proposals: 17012\n"
     ]
    },
    {
     "data": {
      "application/vnd.jupyter.widget-view+json": {
       "model_id": "",
       "version_major": 2,
       "version_minor": 0
      },
      "text/plain": [
       "  0%|          | 0/10000 [00:00<?, ?it/s]"
      ]
     },
     "metadata": {},
     "output_type": "display_data"
    },
    {
     "name": "stdout",
     "output_type": "stream",
     "text": [
      "Epoch #36\n",
      "Current log-likelihood: -1240.086054112128\n",
      "Current accepted proposals: 17465\n"
     ]
    },
    {
     "data": {
      "application/vnd.jupyter.widget-view+json": {
       "model_id": "",
       "version_major": 2,
       "version_minor": 0
      },
      "text/plain": [
       "  0%|          | 0/10000 [00:00<?, ?it/s]"
      ]
     },
     "metadata": {},
     "output_type": "display_data"
    },
    {
     "name": "stdout",
     "output_type": "stream",
     "text": [
      "Epoch #37\n",
      "Current log-likelihood: -1377.112338173024\n",
      "Current accepted proposals: 17973\n"
     ]
    },
    {
     "data": {
      "application/vnd.jupyter.widget-view+json": {
       "model_id": "",
       "version_major": 2,
       "version_minor": 0
      },
      "text/plain": [
       "  0%|          | 0/10000 [00:00<?, ?it/s]"
      ]
     },
     "metadata": {},
     "output_type": "display_data"
    },
    {
     "name": "stdout",
     "output_type": "stream",
     "text": [
      "Epoch #38\n",
      "Current log-likelihood: -1271.6006168787403\n",
      "Current accepted proposals: 18482\n"
     ]
    },
    {
     "data": {
      "application/vnd.jupyter.widget-view+json": {
       "model_id": "",
       "version_major": 2,
       "version_minor": 0
      },
      "text/plain": [
       "  0%|          | 0/10000 [00:00<?, ?it/s]"
      ]
     },
     "metadata": {},
     "output_type": "display_data"
    },
    {
     "name": "stdout",
     "output_type": "stream",
     "text": [
      "Epoch #39\n",
      "Current log-likelihood: -1265.486415924689\n",
      "Current accepted proposals: 19029\n"
     ]
    },
    {
     "data": {
      "application/vnd.jupyter.widget-view+json": {
       "model_id": "",
       "version_major": 2,
       "version_minor": 0
      },
      "text/plain": [
       "  0%|          | 0/10000 [00:00<?, ?it/s]"
      ]
     },
     "metadata": {},
     "output_type": "display_data"
    },
    {
     "name": "stdout",
     "output_type": "stream",
     "text": [
      "Epoch #40\n",
      "Current log-likelihood: -1360.0168243872529\n",
      "Current accepted proposals: 19502\n"
     ]
    },
    {
     "data": {
      "application/vnd.jupyter.widget-view+json": {
       "model_id": "",
       "version_major": 2,
       "version_minor": 0
      },
      "text/plain": [
       "  0%|          | 0/10000 [00:00<?, ?it/s]"
      ]
     },
     "metadata": {},
     "output_type": "display_data"
    },
    {
     "name": "stdout",
     "output_type": "stream",
     "text": [
      "Epoch #41\n",
      "Current log-likelihood: -1252.0297631342237\n",
      "Current accepted proposals: 20011\n"
     ]
    },
    {
     "data": {
      "application/vnd.jupyter.widget-view+json": {
       "model_id": "",
       "version_major": 2,
       "version_minor": 0
      },
      "text/plain": [
       "  0%|          | 0/10000 [00:00<?, ?it/s]"
      ]
     },
     "metadata": {},
     "output_type": "display_data"
    },
    {
     "name": "stdout",
     "output_type": "stream",
     "text": [
      "Epoch #42\n",
      "Current log-likelihood: -1349.3727363805513\n",
      "Current accepted proposals: 20458\n"
     ]
    },
    {
     "data": {
      "application/vnd.jupyter.widget-view+json": {
       "model_id": "",
       "version_major": 2,
       "version_minor": 0
      },
      "text/plain": [
       "  0%|          | 0/10000 [00:00<?, ?it/s]"
      ]
     },
     "metadata": {},
     "output_type": "display_data"
    },
    {
     "name": "stdout",
     "output_type": "stream",
     "text": [
      "Epoch #43\n",
      "Current log-likelihood: -1249.693230648361\n",
      "Current accepted proposals: 20937\n"
     ]
    },
    {
     "data": {
      "application/vnd.jupyter.widget-view+json": {
       "model_id": "",
       "version_major": 2,
       "version_minor": 0
      },
      "text/plain": [
       "  0%|          | 0/10000 [00:00<?, ?it/s]"
      ]
     },
     "metadata": {},
     "output_type": "display_data"
    },
    {
     "name": "stdout",
     "output_type": "stream",
     "text": [
      "Epoch #44\n",
      "Current log-likelihood: -1238.5835493277875\n",
      "Current accepted proposals: 21482\n"
     ]
    },
    {
     "data": {
      "application/vnd.jupyter.widget-view+json": {
       "model_id": "",
       "version_major": 2,
       "version_minor": 0
      },
      "text/plain": [
       "  0%|          | 0/10000 [00:00<?, ?it/s]"
      ]
     },
     "metadata": {},
     "output_type": "display_data"
    },
    {
     "name": "stdout",
     "output_type": "stream",
     "text": [
      "Epoch #45\n",
      "Current log-likelihood: -1231.2547551943435\n",
      "Current accepted proposals: 21913\n"
     ]
    },
    {
     "data": {
      "application/vnd.jupyter.widget-view+json": {
       "model_id": "",
       "version_major": 2,
       "version_minor": 0
      },
      "text/plain": [
       "  0%|          | 0/10000 [00:00<?, ?it/s]"
      ]
     },
     "metadata": {},
     "output_type": "display_data"
    },
    {
     "name": "stdout",
     "output_type": "stream",
     "text": [
      "Epoch #46\n",
      "Current log-likelihood: -1255.8663969642137\n",
      "Current accepted proposals: 22404\n"
     ]
    },
    {
     "data": {
      "application/vnd.jupyter.widget-view+json": {
       "model_id": "",
       "version_major": 2,
       "version_minor": 0
      },
      "text/plain": [
       "  0%|          | 0/10000 [00:00<?, ?it/s]"
      ]
     },
     "metadata": {},
     "output_type": "display_data"
    },
    {
     "name": "stdout",
     "output_type": "stream",
     "text": [
      "Epoch #47\n",
      "Current log-likelihood: -1231.2547551943435\n",
      "Current accepted proposals: 22825\n"
     ]
    },
    {
     "data": {
      "application/vnd.jupyter.widget-view+json": {
       "model_id": "",
       "version_major": 2,
       "version_minor": 0
      },
      "text/plain": [
       "  0%|          | 0/10000 [00:00<?, ?it/s]"
      ]
     },
     "metadata": {},
     "output_type": "display_data"
    },
    {
     "name": "stdout",
     "output_type": "stream",
     "text": [
      "Epoch #48\n",
      "Current log-likelihood: -1237.4064191767038\n",
      "Current accepted proposals: 23284\n"
     ]
    },
    {
     "data": {
      "application/vnd.jupyter.widget-view+json": {
       "model_id": "",
       "version_major": 2,
       "version_minor": 0
      },
      "text/plain": [
       "  0%|          | 0/10000 [00:00<?, ?it/s]"
      ]
     },
     "metadata": {},
     "output_type": "display_data"
    },
    {
     "name": "stdout",
     "output_type": "stream",
     "text": [
      "Epoch #49\n",
      "Current log-likelihood: -1360.9351828851065\n",
      "Current accepted proposals: 23718\n"
     ]
    },
    {
     "data": {
      "application/vnd.jupyter.widget-view+json": {
       "model_id": "",
       "version_major": 2,
       "version_minor": 0
      },
      "text/plain": [
       "  0%|          | 0/10000 [00:00<?, ?it/s]"
      ]
     },
     "metadata": {},
     "output_type": "display_data"
    },
    {
     "name": "stdout",
     "output_type": "stream",
     "text": [
      "Epoch #50\n",
      "Current log-likelihood: -1265.3307828296981\n",
      "Current accepted proposals: 24210\n",
      "Best likelihood: -1231.2547551943435\n",
      "Acceptance ratio: 0.04842\n"
     ]
    }
   ],
   "source": [
    "reverse_mapping = generate_mcmc_reverse_mapping(message_1, alphabet_message, alphabet_ru, corpus_frequencies, epochs=EPOCHS)"
   ]
  },
  {
   "cell_type": "code",
   "execution_count": 150,
   "id": "ed5ea425",
   "metadata": {},
   "outputs": [
    {
     "data": {
      "text/plain": [
       "'если вы вимите нордальный или почти нордальный текст у этого соожшения который легко прочитать скорее всего вы все смелали правильно и получите даксидальный жалл за послемнее четвертое замание курса ботя конечно я ничего не ожешаф'"
      ]
     },
     "execution_count": 150,
     "metadata": {},
     "output_type": "execute_result"
    }
   ],
   "source": [
    "apply_mapping(message_1, reverse_mapping)"
   ]
  },
  {
   "cell_type": "code",
   "execution_count": 151,
   "id": "7c0f4267",
   "metadata": {},
   "outputs": [],
   "source": [
    "message_answer = \"если вы видите нормальный или почти нормальный текст у этого сообщения который легко прочитать скорее всего вы все сделали правильно и получите максимальный балл за последнее четвертое задание курса хотя конечно я ничего не обещаю\"\n",
    "decoded_test = apply_mapping(message_1, reverse_mapping)"
   ]
  },
  {
   "cell_type": "code",
   "execution_count": 152,
   "id": "f6f63a13",
   "metadata": {},
   "outputs": [
    {
     "name": "stdout",
     "output_type": "stream",
     "text": [
      "Char decoding accuracy: 93.48%\n",
      "Levenstein distace: 15\n"
     ]
    }
   ],
   "source": [
    "print(f\"Char decoding accuracy: {char_accuracy(message_answer, decoded_test) * 100:.2f}%\")\n",
    "print(f\"Levenstein distace: {levenstein_distance(message_answer, decoded_test)}\")"
   ]
  },
  {
   "cell_type": "markdown",
   "id": "40929a8c",
   "metadata": {},
   "source": [
    "Сообщение расшифровано почти верно, метод работает!\n"
   ]
  },
  {
   "cell_type": "markdown",
   "id": "6e84aa07",
   "metadata": {},
   "source": [
    "Проверим для второго сообщения."
   ]
  },
  {
   "cell_type": "code",
   "execution_count": 154,
   "id": "95c0b404",
   "metadata": {},
   "outputs": [],
   "source": [
    "alphabet_message = \" \" + \"\".join([char for char in set(message_2)])"
   ]
  },
  {
   "cell_type": "code",
   "execution_count": 160,
   "id": "12deb473",
   "metadata": {},
   "outputs": [
    {
     "data": {
      "application/vnd.jupyter.widget-view+json": {
       "model_id": "",
       "version_major": 2,
       "version_minor": 0
      },
      "text/plain": [
       "  0%|          | 0/10000 [00:00<?, ?it/s]"
      ]
     },
     "metadata": {},
     "output_type": "display_data"
    },
    {
     "name": "stdout",
     "output_type": "stream",
     "text": [
      "Epoch #1\n",
      "Current log-likelihood: -1345.8755584771795\n",
      "Current accepted proposals: 490\n"
     ]
    },
    {
     "data": {
      "application/vnd.jupyter.widget-view+json": {
       "model_id": "",
       "version_major": 2,
       "version_minor": 0
      },
      "text/plain": [
       "  0%|          | 0/10000 [00:00<?, ?it/s]"
      ]
     },
     "metadata": {},
     "output_type": "display_data"
    },
    {
     "name": "stdout",
     "output_type": "stream",
     "text": [
      "Epoch #2\n",
      "Current log-likelihood: -1349.6720447515313\n",
      "Current accepted proposals: 945\n"
     ]
    },
    {
     "data": {
      "application/vnd.jupyter.widget-view+json": {
       "model_id": "",
       "version_major": 2,
       "version_minor": 0
      },
      "text/plain": [
       "  0%|          | 0/10000 [00:00<?, ?it/s]"
      ]
     },
     "metadata": {},
     "output_type": "display_data"
    },
    {
     "name": "stdout",
     "output_type": "stream",
     "text": [
      "Epoch #3\n",
      "Current log-likelihood: -1390.146675363128\n",
      "Current accepted proposals: 1425\n"
     ]
    },
    {
     "data": {
      "application/vnd.jupyter.widget-view+json": {
       "model_id": "",
       "version_major": 2,
       "version_minor": 0
      },
      "text/plain": [
       "  0%|          | 0/10000 [00:00<?, ?it/s]"
      ]
     },
     "metadata": {},
     "output_type": "display_data"
    },
    {
     "name": "stdout",
     "output_type": "stream",
     "text": [
      "Epoch #4\n",
      "Current log-likelihood: -1373.4572158849592\n",
      "Current accepted proposals: 1829\n"
     ]
    },
    {
     "data": {
      "application/vnd.jupyter.widget-view+json": {
       "model_id": "",
       "version_major": 2,
       "version_minor": 0
      },
      "text/plain": [
       "  0%|          | 0/10000 [00:00<?, ?it/s]"
      ]
     },
     "metadata": {},
     "output_type": "display_data"
    },
    {
     "name": "stdout",
     "output_type": "stream",
     "text": [
      "Epoch #5\n",
      "Current log-likelihood: -1358.0502732352425\n",
      "Current accepted proposals: 2310\n"
     ]
    },
    {
     "data": {
      "application/vnd.jupyter.widget-view+json": {
       "model_id": "",
       "version_major": 2,
       "version_minor": 0
      },
      "text/plain": [
       "  0%|          | 0/10000 [00:00<?, ?it/s]"
      ]
     },
     "metadata": {},
     "output_type": "display_data"
    },
    {
     "name": "stdout",
     "output_type": "stream",
     "text": [
      "Epoch #6\n",
      "Current log-likelihood: -1386.8560211177237\n",
      "Current accepted proposals: 2775\n"
     ]
    },
    {
     "data": {
      "application/vnd.jupyter.widget-view+json": {
       "model_id": "",
       "version_major": 2,
       "version_minor": 0
      },
      "text/plain": [
       "  0%|          | 0/10000 [00:00<?, ?it/s]"
      ]
     },
     "metadata": {},
     "output_type": "display_data"
    },
    {
     "name": "stdout",
     "output_type": "stream",
     "text": [
      "Epoch #7\n",
      "Current log-likelihood: -1345.386208291627\n",
      "Current accepted proposals: 3219\n"
     ]
    },
    {
     "data": {
      "application/vnd.jupyter.widget-view+json": {
       "model_id": "",
       "version_major": 2,
       "version_minor": 0
      },
      "text/plain": [
       "  0%|          | 0/10000 [00:00<?, ?it/s]"
      ]
     },
     "metadata": {},
     "output_type": "display_data"
    },
    {
     "name": "stdout",
     "output_type": "stream",
     "text": [
      "Epoch #8\n",
      "Current log-likelihood: -1413.5736518387187\n",
      "Current accepted proposals: 3688\n"
     ]
    },
    {
     "data": {
      "application/vnd.jupyter.widget-view+json": {
       "model_id": "",
       "version_major": 2,
       "version_minor": 0
      },
      "text/plain": [
       "  0%|          | 0/10000 [00:00<?, ?it/s]"
      ]
     },
     "metadata": {},
     "output_type": "display_data"
    },
    {
     "name": "stdout",
     "output_type": "stream",
     "text": [
      "Epoch #9\n",
      "Current log-likelihood: -1253.1864326068971\n",
      "Current accepted proposals: 4168\n"
     ]
    },
    {
     "data": {
      "application/vnd.jupyter.widget-view+json": {
       "model_id": "",
       "version_major": 2,
       "version_minor": 0
      },
      "text/plain": [
       "  0%|          | 0/10000 [00:00<?, ?it/s]"
      ]
     },
     "metadata": {},
     "output_type": "display_data"
    },
    {
     "name": "stdout",
     "output_type": "stream",
     "text": [
      "Epoch #10\n",
      "Current log-likelihood: -1401.3888134916472\n",
      "Current accepted proposals: 4618\n"
     ]
    },
    {
     "data": {
      "application/vnd.jupyter.widget-view+json": {
       "model_id": "",
       "version_major": 2,
       "version_minor": 0
      },
      "text/plain": [
       "  0%|          | 0/10000 [00:00<?, ?it/s]"
      ]
     },
     "metadata": {},
     "output_type": "display_data"
    },
    {
     "name": "stdout",
     "output_type": "stream",
     "text": [
      "Epoch #11\n",
      "Current log-likelihood: -1369.4827634427274\n",
      "Current accepted proposals: 5064\n"
     ]
    },
    {
     "data": {
      "application/vnd.jupyter.widget-view+json": {
       "model_id": "",
       "version_major": 2,
       "version_minor": 0
      },
      "text/plain": [
       "  0%|          | 0/10000 [00:00<?, ?it/s]"
      ]
     },
     "metadata": {},
     "output_type": "display_data"
    },
    {
     "name": "stdout",
     "output_type": "stream",
     "text": [
      "Epoch #12\n",
      "Current log-likelihood: -1373.6196024522103\n",
      "Current accepted proposals: 5537\n"
     ]
    },
    {
     "data": {
      "application/vnd.jupyter.widget-view+json": {
       "model_id": "",
       "version_major": 2,
       "version_minor": 0
      },
      "text/plain": [
       "  0%|          | 0/10000 [00:00<?, ?it/s]"
      ]
     },
     "metadata": {},
     "output_type": "display_data"
    },
    {
     "name": "stdout",
     "output_type": "stream",
     "text": [
      "Epoch #13\n",
      "Current log-likelihood: -1363.4881664171965\n",
      "Current accepted proposals: 5969\n"
     ]
    },
    {
     "data": {
      "application/vnd.jupyter.widget-view+json": {
       "model_id": "",
       "version_major": 2,
       "version_minor": 0
      },
      "text/plain": [
       "  0%|          | 0/10000 [00:00<?, ?it/s]"
      ]
     },
     "metadata": {},
     "output_type": "display_data"
    },
    {
     "name": "stdout",
     "output_type": "stream",
     "text": [
      "Epoch #14\n",
      "Current log-likelihood: -1375.8186151078014\n",
      "Current accepted proposals: 6427\n"
     ]
    },
    {
     "data": {
      "application/vnd.jupyter.widget-view+json": {
       "model_id": "",
       "version_major": 2,
       "version_minor": 0
      },
      "text/plain": [
       "  0%|          | 0/10000 [00:00<?, ?it/s]"
      ]
     },
     "metadata": {},
     "output_type": "display_data"
    },
    {
     "name": "stdout",
     "output_type": "stream",
     "text": [
      "Epoch #15\n",
      "Current log-likelihood: -1374.9547466236827\n",
      "Current accepted proposals: 6893\n"
     ]
    },
    {
     "data": {
      "application/vnd.jupyter.widget-view+json": {
       "model_id": "",
       "version_major": 2,
       "version_minor": 0
      },
      "text/plain": [
       "  0%|          | 0/10000 [00:00<?, ?it/s]"
      ]
     },
     "metadata": {},
     "output_type": "display_data"
    },
    {
     "name": "stdout",
     "output_type": "stream",
     "text": [
      "Epoch #16\n",
      "Current log-likelihood: -1361.1630915138633\n",
      "Current accepted proposals: 7351\n"
     ]
    },
    {
     "data": {
      "application/vnd.jupyter.widget-view+json": {
       "model_id": "",
       "version_major": 2,
       "version_minor": 0
      },
      "text/plain": [
       "  0%|          | 0/10000 [00:00<?, ?it/s]"
      ]
     },
     "metadata": {},
     "output_type": "display_data"
    },
    {
     "name": "stdout",
     "output_type": "stream",
     "text": [
      "Epoch #17\n",
      "Current log-likelihood: -1368.870748739194\n",
      "Current accepted proposals: 7838\n"
     ]
    },
    {
     "data": {
      "application/vnd.jupyter.widget-view+json": {
       "model_id": "",
       "version_major": 2,
       "version_minor": 0
      },
      "text/plain": [
       "  0%|          | 0/10000 [00:00<?, ?it/s]"
      ]
     },
     "metadata": {},
     "output_type": "display_data"
    },
    {
     "name": "stdout",
     "output_type": "stream",
     "text": [
      "Epoch #18\n",
      "Current log-likelihood: -1359.2780855961091\n",
      "Current accepted proposals: 8310\n"
     ]
    },
    {
     "data": {
      "application/vnd.jupyter.widget-view+json": {
       "model_id": "",
       "version_major": 2,
       "version_minor": 0
      },
      "text/plain": [
       "  0%|          | 0/10000 [00:00<?, ?it/s]"
      ]
     },
     "metadata": {},
     "output_type": "display_data"
    },
    {
     "name": "stdout",
     "output_type": "stream",
     "text": [
      "Epoch #19\n",
      "Current log-likelihood: -1348.3515801741792\n",
      "Current accepted proposals: 8752\n"
     ]
    },
    {
     "data": {
      "application/vnd.jupyter.widget-view+json": {
       "model_id": "",
       "version_major": 2,
       "version_minor": 0
      },
      "text/plain": [
       "  0%|          | 0/10000 [00:00<?, ?it/s]"
      ]
     },
     "metadata": {},
     "output_type": "display_data"
    },
    {
     "name": "stdout",
     "output_type": "stream",
     "text": [
      "Epoch #20\n",
      "Current log-likelihood: -1352.9835026598955\n",
      "Current accepted proposals: 9212\n"
     ]
    },
    {
     "data": {
      "application/vnd.jupyter.widget-view+json": {
       "model_id": "",
       "version_major": 2,
       "version_minor": 0
      },
      "text/plain": [
       "  0%|          | 0/10000 [00:00<?, ?it/s]"
      ]
     },
     "metadata": {},
     "output_type": "display_data"
    },
    {
     "name": "stdout",
     "output_type": "stream",
     "text": [
      "Epoch #21\n",
      "Current log-likelihood: -1346.0834430882437\n",
      "Current accepted proposals: 9674\n"
     ]
    },
    {
     "data": {
      "application/vnd.jupyter.widget-view+json": {
       "model_id": "",
       "version_major": 2,
       "version_minor": 0
      },
      "text/plain": [
       "  0%|          | 0/10000 [00:00<?, ?it/s]"
      ]
     },
     "metadata": {},
     "output_type": "display_data"
    },
    {
     "name": "stdout",
     "output_type": "stream",
     "text": [
      "Epoch #22\n",
      "Current log-likelihood: -1360.089532556191\n",
      "Current accepted proposals: 10150\n"
     ]
    },
    {
     "data": {
      "application/vnd.jupyter.widget-view+json": {
       "model_id": "",
       "version_major": 2,
       "version_minor": 0
      },
      "text/plain": [
       "  0%|          | 0/10000 [00:00<?, ?it/s]"
      ]
     },
     "metadata": {},
     "output_type": "display_data"
    },
    {
     "name": "stdout",
     "output_type": "stream",
     "text": [
      "Epoch #23\n",
      "Current log-likelihood: -1368.566109692207\n",
      "Current accepted proposals: 10635\n"
     ]
    },
    {
     "data": {
      "application/vnd.jupyter.widget-view+json": {
       "model_id": "",
       "version_major": 2,
       "version_minor": 0
      },
      "text/plain": [
       "  0%|          | 0/10000 [00:00<?, ?it/s]"
      ]
     },
     "metadata": {},
     "output_type": "display_data"
    },
    {
     "name": "stdout",
     "output_type": "stream",
     "text": [
      "Epoch #24\n",
      "Current log-likelihood: -1360.4535649443592\n",
      "Current accepted proposals: 11115\n"
     ]
    },
    {
     "data": {
      "application/vnd.jupyter.widget-view+json": {
       "model_id": "",
       "version_major": 2,
       "version_minor": 0
      },
      "text/plain": [
       "  0%|          | 0/10000 [00:00<?, ?it/s]"
      ]
     },
     "metadata": {},
     "output_type": "display_data"
    },
    {
     "name": "stdout",
     "output_type": "stream",
     "text": [
      "Epoch #25\n",
      "Current log-likelihood: -1375.2992575598844\n",
      "Current accepted proposals: 11595\n"
     ]
    },
    {
     "data": {
      "application/vnd.jupyter.widget-view+json": {
       "model_id": "",
       "version_major": 2,
       "version_minor": 0
      },
      "text/plain": [
       "  0%|          | 0/10000 [00:00<?, ?it/s]"
      ]
     },
     "metadata": {},
     "output_type": "display_data"
    },
    {
     "name": "stdout",
     "output_type": "stream",
     "text": [
      "Epoch #26\n",
      "Current log-likelihood: -1353.2004329326453\n",
      "Current accepted proposals: 12039\n"
     ]
    },
    {
     "data": {
      "application/vnd.jupyter.widget-view+json": {
       "model_id": "",
       "version_major": 2,
       "version_minor": 0
      },
      "text/plain": [
       "  0%|          | 0/10000 [00:00<?, ?it/s]"
      ]
     },
     "metadata": {},
     "output_type": "display_data"
    },
    {
     "name": "stdout",
     "output_type": "stream",
     "text": [
      "Epoch #27\n",
      "Current log-likelihood: -1407.8287201901364\n",
      "Current accepted proposals: 12565\n"
     ]
    },
    {
     "data": {
      "application/vnd.jupyter.widget-view+json": {
       "model_id": "",
       "version_major": 2,
       "version_minor": 0
      },
      "text/plain": [
       "  0%|          | 0/10000 [00:00<?, ?it/s]"
      ]
     },
     "metadata": {},
     "output_type": "display_data"
    },
    {
     "name": "stdout",
     "output_type": "stream",
     "text": [
      "Epoch #28\n",
      "Current log-likelihood: -1369.160622724779\n",
      "Current accepted proposals: 13091\n"
     ]
    },
    {
     "data": {
      "application/vnd.jupyter.widget-view+json": {
       "model_id": "",
       "version_major": 2,
       "version_minor": 0
      },
      "text/plain": [
       "  0%|          | 0/10000 [00:00<?, ?it/s]"
      ]
     },
     "metadata": {},
     "output_type": "display_data"
    },
    {
     "name": "stdout",
     "output_type": "stream",
     "text": [
      "Epoch #29\n",
      "Current log-likelihood: -1364.0721770768948\n",
      "Current accepted proposals: 13540\n"
     ]
    },
    {
     "data": {
      "application/vnd.jupyter.widget-view+json": {
       "model_id": "",
       "version_major": 2,
       "version_minor": 0
      },
      "text/plain": [
       "  0%|          | 0/10000 [00:00<?, ?it/s]"
      ]
     },
     "metadata": {},
     "output_type": "display_data"
    },
    {
     "name": "stdout",
     "output_type": "stream",
     "text": [
      "Epoch #30\n",
      "Current log-likelihood: -1369.6996556996055\n",
      "Current accepted proposals: 13950\n"
     ]
    },
    {
     "data": {
      "application/vnd.jupyter.widget-view+json": {
       "model_id": "",
       "version_major": 2,
       "version_minor": 0
      },
      "text/plain": [
       "  0%|          | 0/10000 [00:00<?, ?it/s]"
      ]
     },
     "metadata": {},
     "output_type": "display_data"
    },
    {
     "name": "stdout",
     "output_type": "stream",
     "text": [
      "Epoch #31\n",
      "Current log-likelihood: -1365.7780735192755\n",
      "Current accepted proposals: 14425\n"
     ]
    },
    {
     "data": {
      "application/vnd.jupyter.widget-view+json": {
       "model_id": "",
       "version_major": 2,
       "version_minor": 0
      },
      "text/plain": [
       "  0%|          | 0/10000 [00:00<?, ?it/s]"
      ]
     },
     "metadata": {},
     "output_type": "display_data"
    },
    {
     "name": "stdout",
     "output_type": "stream",
     "text": [
      "Epoch #32\n",
      "Current log-likelihood: -1349.6268760566177\n",
      "Current accepted proposals: 14871\n"
     ]
    },
    {
     "data": {
      "application/vnd.jupyter.widget-view+json": {
       "model_id": "",
       "version_major": 2,
       "version_minor": 0
      },
      "text/plain": [
       "  0%|          | 0/10000 [00:00<?, ?it/s]"
      ]
     },
     "metadata": {},
     "output_type": "display_data"
    },
    {
     "name": "stdout",
     "output_type": "stream",
     "text": [
      "Epoch #33\n",
      "Current log-likelihood: -1353.1068826787186\n",
      "Current accepted proposals: 15313\n"
     ]
    },
    {
     "data": {
      "application/vnd.jupyter.widget-view+json": {
       "model_id": "",
       "version_major": 2,
       "version_minor": 0
      },
      "text/plain": [
       "  0%|          | 0/10000 [00:00<?, ?it/s]"
      ]
     },
     "metadata": {},
     "output_type": "display_data"
    },
    {
     "name": "stdout",
     "output_type": "stream",
     "text": [
      "Epoch #34\n",
      "Current log-likelihood: -1348.6728388966694\n",
      "Current accepted proposals: 15767\n"
     ]
    },
    {
     "data": {
      "application/vnd.jupyter.widget-view+json": {
       "model_id": "",
       "version_major": 2,
       "version_minor": 0
      },
      "text/plain": [
       "  0%|          | 0/10000 [00:00<?, ?it/s]"
      ]
     },
     "metadata": {},
     "output_type": "display_data"
    },
    {
     "name": "stdout",
     "output_type": "stream",
     "text": [
      "Epoch #35\n",
      "Current log-likelihood: -1390.8172536955174\n",
      "Current accepted proposals: 16243\n"
     ]
    },
    {
     "data": {
      "application/vnd.jupyter.widget-view+json": {
       "model_id": "",
       "version_major": 2,
       "version_minor": 0
      },
      "text/plain": [
       "  0%|          | 0/10000 [00:00<?, ?it/s]"
      ]
     },
     "metadata": {},
     "output_type": "display_data"
    },
    {
     "name": "stdout",
     "output_type": "stream",
     "text": [
      "Epoch #36\n",
      "Current log-likelihood: -1376.2332322562943\n",
      "Current accepted proposals: 16720\n"
     ]
    },
    {
     "data": {
      "application/vnd.jupyter.widget-view+json": {
       "model_id": "",
       "version_major": 2,
       "version_minor": 0
      },
      "text/plain": [
       "  0%|          | 0/10000 [00:00<?, ?it/s]"
      ]
     },
     "metadata": {},
     "output_type": "display_data"
    },
    {
     "name": "stdout",
     "output_type": "stream",
     "text": [
      "Epoch #37\n",
      "Current log-likelihood: -1358.3873551575484\n",
      "Current accepted proposals: 17183\n"
     ]
    },
    {
     "data": {
      "application/vnd.jupyter.widget-view+json": {
       "model_id": "",
       "version_major": 2,
       "version_minor": 0
      },
      "text/plain": [
       "  0%|          | 0/10000 [00:00<?, ?it/s]"
      ]
     },
     "metadata": {},
     "output_type": "display_data"
    },
    {
     "name": "stdout",
     "output_type": "stream",
     "text": [
      "Epoch #38\n",
      "Current log-likelihood: -1379.7474434606763\n",
      "Current accepted proposals: 17621\n"
     ]
    },
    {
     "data": {
      "application/vnd.jupyter.widget-view+json": {
       "model_id": "",
       "version_major": 2,
       "version_minor": 0
      },
      "text/plain": [
       "  0%|          | 0/10000 [00:00<?, ?it/s]"
      ]
     },
     "metadata": {},
     "output_type": "display_data"
    },
    {
     "name": "stdout",
     "output_type": "stream",
     "text": [
      "Epoch #39\n",
      "Current log-likelihood: -1342.611085815907\n",
      "Current accepted proposals: 18054\n"
     ]
    },
    {
     "data": {
      "application/vnd.jupyter.widget-view+json": {
       "model_id": "",
       "version_major": 2,
       "version_minor": 0
      },
      "text/plain": [
       "  0%|          | 0/10000 [00:00<?, ?it/s]"
      ]
     },
     "metadata": {},
     "output_type": "display_data"
    },
    {
     "name": "stdout",
     "output_type": "stream",
     "text": [
      "Epoch #40\n",
      "Current log-likelihood: -1338.5262500481747\n",
      "Current accepted proposals: 18527\n"
     ]
    },
    {
     "data": {
      "application/vnd.jupyter.widget-view+json": {
       "model_id": "",
       "version_major": 2,
       "version_minor": 0
      },
      "text/plain": [
       "  0%|          | 0/10000 [00:00<?, ?it/s]"
      ]
     },
     "metadata": {},
     "output_type": "display_data"
    },
    {
     "name": "stdout",
     "output_type": "stream",
     "text": [
      "Epoch #41\n",
      "Current log-likelihood: -1373.0854693175909\n",
      "Current accepted proposals: 18969\n"
     ]
    },
    {
     "data": {
      "application/vnd.jupyter.widget-view+json": {
       "model_id": "",
       "version_major": 2,
       "version_minor": 0
      },
      "text/plain": [
       "  0%|          | 0/10000 [00:00<?, ?it/s]"
      ]
     },
     "metadata": {},
     "output_type": "display_data"
    },
    {
     "name": "stdout",
     "output_type": "stream",
     "text": [
      "Epoch #42\n",
      "Current log-likelihood: -1352.5854016533556\n",
      "Current accepted proposals: 19379\n"
     ]
    },
    {
     "data": {
      "application/vnd.jupyter.widget-view+json": {
       "model_id": "",
       "version_major": 2,
       "version_minor": 0
      },
      "text/plain": [
       "  0%|          | 0/10000 [00:00<?, ?it/s]"
      ]
     },
     "metadata": {},
     "output_type": "display_data"
    },
    {
     "name": "stdout",
     "output_type": "stream",
     "text": [
      "Epoch #43\n",
      "Current log-likelihood: -1344.660279082344\n",
      "Current accepted proposals: 19848\n"
     ]
    },
    {
     "data": {
      "application/vnd.jupyter.widget-view+json": {
       "model_id": "",
       "version_major": 2,
       "version_minor": 0
      },
      "text/plain": [
       "  0%|          | 0/10000 [00:00<?, ?it/s]"
      ]
     },
     "metadata": {},
     "output_type": "display_data"
    },
    {
     "name": "stdout",
     "output_type": "stream",
     "text": [
      "Epoch #44\n",
      "Current log-likelihood: -1365.9869885694714\n",
      "Current accepted proposals: 20306\n"
     ]
    },
    {
     "data": {
      "application/vnd.jupyter.widget-view+json": {
       "model_id": "",
       "version_major": 2,
       "version_minor": 0
      },
      "text/plain": [
       "  0%|          | 0/10000 [00:00<?, ?it/s]"
      ]
     },
     "metadata": {},
     "output_type": "display_data"
    },
    {
     "name": "stdout",
     "output_type": "stream",
     "text": [
      "Epoch #45\n",
      "Current log-likelihood: -1387.395826164525\n",
      "Current accepted proposals: 20807\n"
     ]
    },
    {
     "data": {
      "application/vnd.jupyter.widget-view+json": {
       "model_id": "",
       "version_major": 2,
       "version_minor": 0
      },
      "text/plain": [
       "  0%|          | 0/10000 [00:00<?, ?it/s]"
      ]
     },
     "metadata": {},
     "output_type": "display_data"
    },
    {
     "name": "stdout",
     "output_type": "stream",
     "text": [
      "Epoch #46\n",
      "Current log-likelihood: -1321.5823850618713\n",
      "Current accepted proposals: 21281\n"
     ]
    },
    {
     "data": {
      "application/vnd.jupyter.widget-view+json": {
       "model_id": "",
       "version_major": 2,
       "version_minor": 0
      },
      "text/plain": [
       "  0%|          | 0/10000 [00:00<?, ?it/s]"
      ]
     },
     "metadata": {},
     "output_type": "display_data"
    },
    {
     "name": "stdout",
     "output_type": "stream",
     "text": [
      "Epoch #47\n",
      "Current log-likelihood: -1372.396742124592\n",
      "Current accepted proposals: 21776\n"
     ]
    },
    {
     "data": {
      "application/vnd.jupyter.widget-view+json": {
       "model_id": "",
       "version_major": 2,
       "version_minor": 0
      },
      "text/plain": [
       "  0%|          | 0/10000 [00:00<?, ?it/s]"
      ]
     },
     "metadata": {},
     "output_type": "display_data"
    },
    {
     "name": "stdout",
     "output_type": "stream",
     "text": [
      "Epoch #48\n",
      "Current log-likelihood: -1371.9986912290806\n",
      "Current accepted proposals: 22250\n"
     ]
    },
    {
     "data": {
      "application/vnd.jupyter.widget-view+json": {
       "model_id": "",
       "version_major": 2,
       "version_minor": 0
      },
      "text/plain": [
       "  0%|          | 0/10000 [00:00<?, ?it/s]"
      ]
     },
     "metadata": {},
     "output_type": "display_data"
    },
    {
     "name": "stdout",
     "output_type": "stream",
     "text": [
      "Epoch #49\n",
      "Current log-likelihood: -1368.827399342378\n",
      "Current accepted proposals: 22688\n"
     ]
    },
    {
     "data": {
      "application/vnd.jupyter.widget-view+json": {
       "model_id": "",
       "version_major": 2,
       "version_minor": 0
      },
      "text/plain": [
       "  0%|          | 0/10000 [00:00<?, ?it/s]"
      ]
     },
     "metadata": {},
     "output_type": "display_data"
    },
    {
     "name": "stdout",
     "output_type": "stream",
     "text": [
      "Epoch #50\n",
      "Current log-likelihood: -1234.80586248601\n",
      "Current accepted proposals: 23142\n",
      "Best likelihood: -1234.80586248601\n",
      "Acceptance ratio: 0.046284\n"
     ]
    }
   ],
   "source": [
    "reverse_mapping = generate_mcmc_reverse_mapping(message_2, alphabet_message, alphabet_ru, corpus_frequencies, epochs=50)"
   ]
  },
  {
   "cell_type": "code",
   "execution_count": 161,
   "id": "134796cb",
   "metadata": {},
   "outputs": [
    {
     "name": "stdout",
     "output_type": "stream",
     "text": [
      "Char decoding accuracy: 94.78%\n",
      "Levenstein distace: 12\n"
     ]
    },
    {
     "data": {
      "text/plain": [
       "'если вы вимите нордальный или почти нордальный текст у этого соожщения который легко прочитать скорее всего вы все смелали правильно и получите даксидальный жалл за послемнее четвертое замание курса хотя конечно я ничего не ожещаш'"
      ]
     },
     "execution_count": 161,
     "metadata": {},
     "output_type": "execute_result"
    }
   ],
   "source": [
    "decoded_test = apply_mapping(message_2, reverse_mapping)\n",
    "print(f\"Char decoding accuracy: {char_accuracy(message_answer, decoded_test) * 100:.2f}%\")\n",
    "print(f\"Levenstein distace: {levenstein_distance(message_answer, decoded_test)}\")\n",
    "decoded_test"
   ]
  },
  {
   "cell_type": "markdown",
   "id": "9c8a71c5",
   "metadata": {},
   "source": [
    "Работает и для второго сообщения."
   ]
  },
  {
   "cell_type": "markdown",
   "id": "collect-praise",
   "metadata": {},
   "source": [
    "## Бонус: Задание 5"
   ]
  },
  {
   "cell_type": "markdown",
   "id": "informative-verse",
   "metadata": {},
   "source": [
    " а что если от биграмм перейти к триграммам (тройкам букв) или даже больше? Улучшатся ли результаты? Когда улучшатся, а когда нет? Чтобы ответить на этот вопрос эмпирически, уже может понадобиться погенерировать много тестовых перестановок и последить за метриками, глазами может быть и не видно."
   ]
  },
  {
   "cell_type": "code",
   "execution_count": 164,
   "id": "dimensional-berlin",
   "metadata": {},
   "outputs": [],
   "source": [
    "message = \"←⇠⇒↟↹↷⇊↹↷↟↤↟↨←↹↝⇛⇯↳⇴⇒⇈↝⇊↾↹↟⇒↟↹⇷⇛⇞↨↟↹↝⇛⇯↳⇴⇒⇈↝⇊↾↹↨←⇌⇠↨↹⇙↹⇸↨⇛↙⇛↹⇠⇛⇛↲⇆←↝↟↞↹⇌⇛↨⇛⇯⇊↾↹⇒←↙⇌⇛↹⇷⇯⇛⇞↟↨⇴↨⇈↹⇠⇌⇛⇯←←↹↷⇠←↙⇛↹↷⇊↹↷⇠←↹⇠↤←⇒⇴⇒↟↹⇷⇯⇴↷↟⇒⇈↝⇛↹↟↹⇷⇛⇒⇙⇞↟↨←↹↳⇴⇌⇠↟↳⇴⇒⇈↝⇊↾↹↲⇴⇒⇒↹⇰⇴↹⇷⇛⇠⇒←↤↝←←↹⇞←↨↷←⇯↨⇛←↹⇰⇴↤⇴↝↟←↹⇌⇙⇯⇠⇴↹↘⇛↨↞↹⇌⇛↝←⇞↝⇛↹↞↹↝↟⇞←↙⇛↹↝←↹⇛↲←⇆⇴⇏\"\n",
    "alphabet_message = \" \" + \"\".join([char for char in set(message)])"
   ]
  },
  {
   "cell_type": "markdown",
   "id": "e79396ce",
   "metadata": {},
   "source": [
    "#### Триграммы"
   ]
  },
  {
   "cell_type": "code",
   "execution_count": 163,
   "id": "quality-furniture",
   "metadata": {},
   "outputs": [],
   "source": [
    "corpus_frequencies_trigramm = get_frequencies(tokenized_corpus, n_gram=3)"
   ]
  },
  {
   "cell_type": "code",
   "execution_count": 165,
   "id": "bearing-secret",
   "metadata": {},
   "outputs": [
    {
     "data": {
      "application/vnd.jupyter.widget-view+json": {
       "model_id": "",
       "version_major": 2,
       "version_minor": 0
      },
      "text/plain": [
       "  0%|          | 0/10000 [00:00<?, ?it/s]"
      ]
     },
     "metadata": {},
     "output_type": "display_data"
    },
    {
     "name": "stdout",
     "output_type": "stream",
     "text": [
      "Epoch #1\n",
      "Current log-likelihood: -2111.264450847848\n",
      "Current accepted proposals: 639\n"
     ]
    },
    {
     "data": {
      "application/vnd.jupyter.widget-view+json": {
       "model_id": "",
       "version_major": 2,
       "version_minor": 0
      },
      "text/plain": [
       "  0%|          | 0/10000 [00:00<?, ?it/s]"
      ]
     },
     "metadata": {},
     "output_type": "display_data"
    },
    {
     "name": "stdout",
     "output_type": "stream",
     "text": [
      "Epoch #2\n",
      "Current log-likelihood: -1731.7789239524675\n",
      "Current accepted proposals: 1181\n"
     ]
    },
    {
     "data": {
      "application/vnd.jupyter.widget-view+json": {
       "model_id": "",
       "version_major": 2,
       "version_minor": 0
      },
      "text/plain": [
       "  0%|          | 0/10000 [00:00<?, ?it/s]"
      ]
     },
     "metadata": {},
     "output_type": "display_data"
    },
    {
     "name": "stdout",
     "output_type": "stream",
     "text": [
      "Epoch #3\n",
      "Current log-likelihood: -2121.622273559962\n",
      "Current accepted proposals: 1930\n"
     ]
    },
    {
     "data": {
      "application/vnd.jupyter.widget-view+json": {
       "model_id": "",
       "version_major": 2,
       "version_minor": 0
      },
      "text/plain": [
       "  0%|          | 0/10000 [00:00<?, ?it/s]"
      ]
     },
     "metadata": {},
     "output_type": "display_data"
    },
    {
     "name": "stdout",
     "output_type": "stream",
     "text": [
      "Epoch #4\n",
      "Current log-likelihood: -2036.6533819118076\n",
      "Current accepted proposals: 2483\n"
     ]
    },
    {
     "data": {
      "application/vnd.jupyter.widget-view+json": {
       "model_id": "",
       "version_major": 2,
       "version_minor": 0
      },
      "text/plain": [
       "  0%|          | 0/10000 [00:00<?, ?it/s]"
      ]
     },
     "metadata": {},
     "output_type": "display_data"
    },
    {
     "name": "stdout",
     "output_type": "stream",
     "text": [
      "Epoch #5\n",
      "Current log-likelihood: -1950.368148379506\n",
      "Current accepted proposals: 2954\n"
     ]
    },
    {
     "data": {
      "application/vnd.jupyter.widget-view+json": {
       "model_id": "",
       "version_major": 2,
       "version_minor": 0
      },
      "text/plain": [
       "  0%|          | 0/10000 [00:00<?, ?it/s]"
      ]
     },
     "metadata": {},
     "output_type": "display_data"
    },
    {
     "name": "stdout",
     "output_type": "stream",
     "text": [
      "Epoch #6\n",
      "Current log-likelihood: -2079.547964028862\n",
      "Current accepted proposals: 3586\n"
     ]
    },
    {
     "data": {
      "application/vnd.jupyter.widget-view+json": {
       "model_id": "",
       "version_major": 2,
       "version_minor": 0
      },
      "text/plain": [
       "  0%|          | 0/10000 [00:00<?, ?it/s]"
      ]
     },
     "metadata": {},
     "output_type": "display_data"
    },
    {
     "name": "stdout",
     "output_type": "stream",
     "text": [
      "Epoch #7\n",
      "Current log-likelihood: -1725.6602016838426\n",
      "Current accepted proposals: 4005\n"
     ]
    },
    {
     "data": {
      "application/vnd.jupyter.widget-view+json": {
       "model_id": "",
       "version_major": 2,
       "version_minor": 0
      },
      "text/plain": [
       "  0%|          | 0/10000 [00:00<?, ?it/s]"
      ]
     },
     "metadata": {},
     "output_type": "display_data"
    },
    {
     "name": "stdout",
     "output_type": "stream",
     "text": [
      "Epoch #8\n",
      "Current log-likelihood: -2083.945032744095\n",
      "Current accepted proposals: 4653\n"
     ]
    },
    {
     "data": {
      "application/vnd.jupyter.widget-view+json": {
       "model_id": "",
       "version_major": 2,
       "version_minor": 0
      },
      "text/plain": [
       "  0%|          | 0/10000 [00:00<?, ?it/s]"
      ]
     },
     "metadata": {},
     "output_type": "display_data"
    },
    {
     "name": "stdout",
     "output_type": "stream",
     "text": [
      "Epoch #9\n",
      "Current log-likelihood: -2131.337580039818\n",
      "Current accepted proposals: 5312\n"
     ]
    },
    {
     "data": {
      "application/vnd.jupyter.widget-view+json": {
       "model_id": "",
       "version_major": 2,
       "version_minor": 0
      },
      "text/plain": [
       "  0%|          | 0/10000 [00:00<?, ?it/s]"
      ]
     },
     "metadata": {},
     "output_type": "display_data"
    },
    {
     "name": "stdout",
     "output_type": "stream",
     "text": [
      "Epoch #10\n",
      "Current log-likelihood: -2021.0444327586013\n",
      "Current accepted proposals: 5933\n"
     ]
    },
    {
     "data": {
      "application/vnd.jupyter.widget-view+json": {
       "model_id": "",
       "version_major": 2,
       "version_minor": 0
      },
      "text/plain": [
       "  0%|          | 0/10000 [00:00<?, ?it/s]"
      ]
     },
     "metadata": {},
     "output_type": "display_data"
    },
    {
     "name": "stdout",
     "output_type": "stream",
     "text": [
      "Epoch #11\n",
      "Current log-likelihood: -2097.382494458286\n",
      "Current accepted proposals: 6514\n"
     ]
    },
    {
     "data": {
      "application/vnd.jupyter.widget-view+json": {
       "model_id": "",
       "version_major": 2,
       "version_minor": 0
      },
      "text/plain": [
       "  0%|          | 0/10000 [00:00<?, ?it/s]"
      ]
     },
     "metadata": {},
     "output_type": "display_data"
    },
    {
     "name": "stdout",
     "output_type": "stream",
     "text": [
      "Epoch #12\n",
      "Current log-likelihood: -2151.742235233484\n",
      "Current accepted proposals: 7191\n"
     ]
    },
    {
     "data": {
      "application/vnd.jupyter.widget-view+json": {
       "model_id": "",
       "version_major": 2,
       "version_minor": 0
      },
      "text/plain": [
       "  0%|          | 0/10000 [00:00<?, ?it/s]"
      ]
     },
     "metadata": {},
     "output_type": "display_data"
    },
    {
     "name": "stdout",
     "output_type": "stream",
     "text": [
      "Epoch #13\n",
      "Current log-likelihood: -2130.3531848235853\n",
      "Current accepted proposals: 7752\n"
     ]
    },
    {
     "data": {
      "application/vnd.jupyter.widget-view+json": {
       "model_id": "",
       "version_major": 2,
       "version_minor": 0
      },
      "text/plain": [
       "  0%|          | 0/10000 [00:00<?, ?it/s]"
      ]
     },
     "metadata": {},
     "output_type": "display_data"
    },
    {
     "name": "stdout",
     "output_type": "stream",
     "text": [
      "Epoch #14\n",
      "Current log-likelihood: -1952.702998686749\n",
      "Current accepted proposals: 8247\n"
     ]
    },
    {
     "data": {
      "application/vnd.jupyter.widget-view+json": {
       "model_id": "",
       "version_major": 2,
       "version_minor": 0
      },
      "text/plain": [
       "  0%|          | 0/10000 [00:00<?, ?it/s]"
      ]
     },
     "metadata": {},
     "output_type": "display_data"
    },
    {
     "name": "stdout",
     "output_type": "stream",
     "text": [
      "Epoch #15\n",
      "Current log-likelihood: -2056.3294641847924\n",
      "Current accepted proposals: 8780\n"
     ]
    },
    {
     "data": {
      "application/vnd.jupyter.widget-view+json": {
       "model_id": "",
       "version_major": 2,
       "version_minor": 0
      },
      "text/plain": [
       "  0%|          | 0/10000 [00:00<?, ?it/s]"
      ]
     },
     "metadata": {},
     "output_type": "display_data"
    },
    {
     "name": "stdout",
     "output_type": "stream",
     "text": [
      "Epoch #16\n",
      "Current log-likelihood: -1956.8962103658155\n",
      "Current accepted proposals: 9360\n"
     ]
    },
    {
     "data": {
      "application/vnd.jupyter.widget-view+json": {
       "model_id": "",
       "version_major": 2,
       "version_minor": 0
      },
      "text/plain": [
       "  0%|          | 0/10000 [00:00<?, ?it/s]"
      ]
     },
     "metadata": {},
     "output_type": "display_data"
    },
    {
     "name": "stdout",
     "output_type": "stream",
     "text": [
      "Epoch #17\n",
      "Current log-likelihood: -2100.132435934129\n",
      "Current accepted proposals: 9849\n"
     ]
    },
    {
     "data": {
      "application/vnd.jupyter.widget-view+json": {
       "model_id": "",
       "version_major": 2,
       "version_minor": 0
      },
      "text/plain": [
       "  0%|          | 0/10000 [00:00<?, ?it/s]"
      ]
     },
     "metadata": {},
     "output_type": "display_data"
    },
    {
     "name": "stdout",
     "output_type": "stream",
     "text": [
      "Epoch #18\n",
      "Current log-likelihood: -2053.597594995246\n",
      "Current accepted proposals: 10608\n"
     ]
    },
    {
     "data": {
      "application/vnd.jupyter.widget-view+json": {
       "model_id": "",
       "version_major": 2,
       "version_minor": 0
      },
      "text/plain": [
       "  0%|          | 0/10000 [00:00<?, ?it/s]"
      ]
     },
     "metadata": {},
     "output_type": "display_data"
    },
    {
     "name": "stdout",
     "output_type": "stream",
     "text": [
      "Epoch #19\n",
      "Current log-likelihood: -1963.381946947159\n",
      "Current accepted proposals: 11093\n"
     ]
    },
    {
     "data": {
      "application/vnd.jupyter.widget-view+json": {
       "model_id": "",
       "version_major": 2,
       "version_minor": 0
      },
      "text/plain": [
       "  0%|          | 0/10000 [00:00<?, ?it/s]"
      ]
     },
     "metadata": {},
     "output_type": "display_data"
    },
    {
     "name": "stdout",
     "output_type": "stream",
     "text": [
      "Epoch #20\n",
      "Current log-likelihood: -2061.6001897839956\n",
      "Current accepted proposals: 11678\n"
     ]
    },
    {
     "data": {
      "application/vnd.jupyter.widget-view+json": {
       "model_id": "",
       "version_major": 2,
       "version_minor": 0
      },
      "text/plain": [
       "  0%|          | 0/10000 [00:00<?, ?it/s]"
      ]
     },
     "metadata": {},
     "output_type": "display_data"
    },
    {
     "name": "stdout",
     "output_type": "stream",
     "text": [
      "Epoch #21\n",
      "Current log-likelihood: -1731.7789239524675\n",
      "Current accepted proposals: 12146\n"
     ]
    },
    {
     "data": {
      "application/vnd.jupyter.widget-view+json": {
       "model_id": "",
       "version_major": 2,
       "version_minor": 0
      },
      "text/plain": [
       "  0%|          | 0/10000 [00:00<?, ?it/s]"
      ]
     },
     "metadata": {},
     "output_type": "display_data"
    },
    {
     "name": "stdout",
     "output_type": "stream",
     "text": [
      "Epoch #22\n",
      "Current log-likelihood: -2079.404846815802\n",
      "Current accepted proposals: 12756\n"
     ]
    },
    {
     "data": {
      "application/vnd.jupyter.widget-view+json": {
       "model_id": "",
       "version_major": 2,
       "version_minor": 0
      },
      "text/plain": [
       "  0%|          | 0/10000 [00:00<?, ?it/s]"
      ]
     },
     "metadata": {},
     "output_type": "display_data"
    },
    {
     "name": "stdout",
     "output_type": "stream",
     "text": [
      "Epoch #23\n",
      "Current log-likelihood: -1988.0324017309592\n",
      "Current accepted proposals: 13290\n"
     ]
    },
    {
     "data": {
      "application/vnd.jupyter.widget-view+json": {
       "model_id": "",
       "version_major": 2,
       "version_minor": 0
      },
      "text/plain": [
       "  0%|          | 0/10000 [00:00<?, ?it/s]"
      ]
     },
     "metadata": {},
     "output_type": "display_data"
    },
    {
     "name": "stdout",
     "output_type": "stream",
     "text": [
      "Epoch #24\n",
      "Current log-likelihood: -1766.825080063892\n",
      "Current accepted proposals: 13908\n"
     ]
    },
    {
     "data": {
      "application/vnd.jupyter.widget-view+json": {
       "model_id": "",
       "version_major": 2,
       "version_minor": 0
      },
      "text/plain": [
       "  0%|          | 0/10000 [00:00<?, ?it/s]"
      ]
     },
     "metadata": {},
     "output_type": "display_data"
    },
    {
     "name": "stdout",
     "output_type": "stream",
     "text": [
      "Epoch #25\n",
      "Current log-likelihood: -2083.6312083829284\n",
      "Current accepted proposals: 14488\n",
      "Best likelihood: -1725.6602016838426\n",
      "Acceptance ratio: 0.057952\n"
     ]
    }
   ],
   "source": [
    "reverse_mapping = generate_mcmc_reverse_mapping(message, alphabet_message, alphabet_ru, corpus_frequencies_trigramm, n_gram=3, epochs=25)"
   ]
  },
  {
   "cell_type": "code",
   "execution_count": 166,
   "id": "1cdeaf56",
   "metadata": {},
   "outputs": [
    {
     "name": "stdout",
     "output_type": "stream",
     "text": [
      "Char decoding accuracy: 99.57%\n",
      "Levenstein distace: 1\n"
     ]
    },
    {
     "data": {
      "text/plain": [
       "'если вы видите нормальный или почти нормальный текст у этого сообщения который легко прочитать скорее всего вы все сделали правильно и получите максимальный балл за последнее четвертое задание курса хотя конечно я ничего не обещаж'"
      ]
     },
     "execution_count": 166,
     "metadata": {},
     "output_type": "execute_result"
    }
   ],
   "source": [
    "decoded_test = apply_mapping(message, reverse_mapping)\n",
    "print(f\"Char decoding accuracy: {char_accuracy(message_answer, decoded_test) * 100:.2f}%\")\n",
    "print(f\"Levenstein distace: {levenstein_distance(message_answer, decoded_test)}\")\n",
    "decoded_test"
   ]
  },
  {
   "cell_type": "markdown",
   "id": "c60b469c",
   "metadata": {},
   "source": [
    "Триграммы сработали лучше, чем биграммы"
   ]
  },
  {
   "cell_type": "markdown",
   "id": "6d5555ba",
   "metadata": {},
   "source": [
    "#### 4-граммы\n"
   ]
  },
  {
   "cell_type": "code",
   "execution_count": 169,
   "id": "17572a5b",
   "metadata": {},
   "outputs": [
    {
     "data": {
      "application/vnd.jupyter.widget-view+json": {
       "model_id": "",
       "version_major": 2,
       "version_minor": 0
      },
      "text/plain": [
       "  0%|          | 0/10000 [00:00<?, ?it/s]"
      ]
     },
     "metadata": {},
     "output_type": "display_data"
    },
    {
     "name": "stdout",
     "output_type": "stream",
     "text": [
      "Epoch #1\n",
      "Current log-likelihood: -2819.688813112943\n",
      "Current accepted proposals: 650\n"
     ]
    },
    {
     "data": {
      "application/vnd.jupyter.widget-view+json": {
       "model_id": "",
       "version_major": 2,
       "version_minor": 0
      },
      "text/plain": [
       "  0%|          | 0/10000 [00:00<?, ?it/s]"
      ]
     },
     "metadata": {},
     "output_type": "display_data"
    },
    {
     "name": "stdout",
     "output_type": "stream",
     "text": [
      "Epoch #2\n",
      "Current log-likelihood: -2184.5921398183245\n",
      "Current accepted proposals: 1137\n"
     ]
    },
    {
     "data": {
      "application/vnd.jupyter.widget-view+json": {
       "model_id": "",
       "version_major": 2,
       "version_minor": 0
      },
      "text/plain": [
       "  0%|          | 0/10000 [00:00<?, ?it/s]"
      ]
     },
     "metadata": {},
     "output_type": "display_data"
    },
    {
     "name": "stdout",
     "output_type": "stream",
     "text": [
      "Epoch #3\n",
      "Current log-likelihood: -2719.859976579331\n",
      "Current accepted proposals: 1692\n"
     ]
    },
    {
     "data": {
      "application/vnd.jupyter.widget-view+json": {
       "model_id": "",
       "version_major": 2,
       "version_minor": 0
      },
      "text/plain": [
       "  0%|          | 0/10000 [00:00<?, ?it/s]"
      ]
     },
     "metadata": {},
     "output_type": "display_data"
    },
    {
     "name": "stdout",
     "output_type": "stream",
     "text": [
      "Epoch #4\n",
      "Current log-likelihood: -2843.2347879168046\n",
      "Current accepted proposals: 2577\n"
     ]
    },
    {
     "data": {
      "application/vnd.jupyter.widget-view+json": {
       "model_id": "",
       "version_major": 2,
       "version_minor": 0
      },
      "text/plain": [
       "  0%|          | 0/10000 [00:00<?, ?it/s]"
      ]
     },
     "metadata": {},
     "output_type": "display_data"
    },
    {
     "name": "stdout",
     "output_type": "stream",
     "text": [
      "Epoch #5\n",
      "Current log-likelihood: -2811.3477895315473\n",
      "Current accepted proposals: 3191\n"
     ]
    },
    {
     "data": {
      "application/vnd.jupyter.widget-view+json": {
       "model_id": "",
       "version_major": 2,
       "version_minor": 0
      },
      "text/plain": [
       "  0%|          | 0/10000 [00:00<?, ?it/s]"
      ]
     },
     "metadata": {},
     "output_type": "display_data"
    },
    {
     "name": "stdout",
     "output_type": "stream",
     "text": [
      "Epoch #6\n",
      "Current log-likelihood: -2775.338007895717\n",
      "Current accepted proposals: 3833\n"
     ]
    },
    {
     "data": {
      "application/vnd.jupyter.widget-view+json": {
       "model_id": "",
       "version_major": 2,
       "version_minor": 0
      },
      "text/plain": [
       "  0%|          | 0/10000 [00:00<?, ?it/s]"
      ]
     },
     "metadata": {},
     "output_type": "display_data"
    },
    {
     "name": "stdout",
     "output_type": "stream",
     "text": [
      "Epoch #7\n",
      "Current log-likelihood: -2802.9906626517877\n",
      "Current accepted proposals: 4437\n"
     ]
    },
    {
     "data": {
      "application/vnd.jupyter.widget-view+json": {
       "model_id": "",
       "version_major": 2,
       "version_minor": 0
      },
      "text/plain": [
       "  0%|          | 0/10000 [00:00<?, ?it/s]"
      ]
     },
     "metadata": {},
     "output_type": "display_data"
    },
    {
     "name": "stdout",
     "output_type": "stream",
     "text": [
      "Epoch #8\n",
      "Current log-likelihood: -2184.5921398183245\n",
      "Current accepted proposals: 4836\n"
     ]
    },
    {
     "data": {
      "application/vnd.jupyter.widget-view+json": {
       "model_id": "",
       "version_major": 2,
       "version_minor": 0
      },
      "text/plain": [
       "  0%|          | 0/10000 [00:00<?, ?it/s]"
      ]
     },
     "metadata": {},
     "output_type": "display_data"
    },
    {
     "name": "stdout",
     "output_type": "stream",
     "text": [
      "Epoch #9\n",
      "Current log-likelihood: -2808.9872696113607\n",
      "Current accepted proposals: 5548\n"
     ]
    },
    {
     "data": {
      "application/vnd.jupyter.widget-view+json": {
       "model_id": "",
       "version_major": 2,
       "version_minor": 0
      },
      "text/plain": [
       "  0%|          | 0/10000 [00:00<?, ?it/s]"
      ]
     },
     "metadata": {},
     "output_type": "display_data"
    },
    {
     "name": "stdout",
     "output_type": "stream",
     "text": [
      "Epoch #10\n",
      "Current log-likelihood: -2842.283114145235\n",
      "Current accepted proposals: 6143\n"
     ]
    },
    {
     "data": {
      "application/vnd.jupyter.widget-view+json": {
       "model_id": "",
       "version_major": 2,
       "version_minor": 0
      },
      "text/plain": [
       "  0%|          | 0/10000 [00:00<?, ?it/s]"
      ]
     },
     "metadata": {},
     "output_type": "display_data"
    },
    {
     "name": "stdout",
     "output_type": "stream",
     "text": [
      "Epoch #11\n",
      "Current log-likelihood: -2840.5572449891984\n",
      "Current accepted proposals: 6707\n"
     ]
    },
    {
     "data": {
      "application/vnd.jupyter.widget-view+json": {
       "model_id": "",
       "version_major": 2,
       "version_minor": 0
      },
      "text/plain": [
       "  0%|          | 0/10000 [00:00<?, ?it/s]"
      ]
     },
     "metadata": {},
     "output_type": "display_data"
    },
    {
     "name": "stdout",
     "output_type": "stream",
     "text": [
      "Epoch #12\n",
      "Current log-likelihood: -2851.340458992549\n",
      "Current accepted proposals: 7312\n"
     ]
    },
    {
     "data": {
      "application/vnd.jupyter.widget-view+json": {
       "model_id": "",
       "version_major": 2,
       "version_minor": 0
      },
      "text/plain": [
       "  0%|          | 0/10000 [00:00<?, ?it/s]"
      ]
     },
     "metadata": {},
     "output_type": "display_data"
    },
    {
     "name": "stdout",
     "output_type": "stream",
     "text": [
      "Epoch #13\n",
      "Current log-likelihood: -2837.4892472015526\n",
      "Current accepted proposals: 8049\n"
     ]
    },
    {
     "data": {
      "application/vnd.jupyter.widget-view+json": {
       "model_id": "",
       "version_major": 2,
       "version_minor": 0
      },
      "text/plain": [
       "  0%|          | 0/10000 [00:00<?, ?it/s]"
      ]
     },
     "metadata": {},
     "output_type": "display_data"
    },
    {
     "name": "stdout",
     "output_type": "stream",
     "text": [
      "Epoch #14\n",
      "Current log-likelihood: -2184.5921398183245\n",
      "Current accepted proposals: 8521\n"
     ]
    },
    {
     "data": {
      "application/vnd.jupyter.widget-view+json": {
       "model_id": "",
       "version_major": 2,
       "version_minor": 0
      },
      "text/plain": [
       "  0%|          | 0/10000 [00:00<?, ?it/s]"
      ]
     },
     "metadata": {},
     "output_type": "display_data"
    },
    {
     "name": "stdout",
     "output_type": "stream",
     "text": [
      "Epoch #15\n",
      "Current log-likelihood: -2871.721069995531\n",
      "Current accepted proposals: 9260\n"
     ]
    },
    {
     "data": {
      "application/vnd.jupyter.widget-view+json": {
       "model_id": "",
       "version_major": 2,
       "version_minor": 0
      },
      "text/plain": [
       "  0%|          | 0/10000 [00:00<?, ?it/s]"
      ]
     },
     "metadata": {},
     "output_type": "display_data"
    },
    {
     "name": "stdout",
     "output_type": "stream",
     "text": [
      "Epoch #16\n",
      "Current log-likelihood: -2877.218098949387\n",
      "Current accepted proposals: 9860\n"
     ]
    },
    {
     "data": {
      "application/vnd.jupyter.widget-view+json": {
       "model_id": "",
       "version_major": 2,
       "version_minor": 0
      },
      "text/plain": [
       "  0%|          | 0/10000 [00:00<?, ?it/s]"
      ]
     },
     "metadata": {},
     "output_type": "display_data"
    },
    {
     "name": "stdout",
     "output_type": "stream",
     "text": [
      "Epoch #17\n",
      "Current log-likelihood: -2874.94877704738\n",
      "Current accepted proposals: 10549\n"
     ]
    },
    {
     "data": {
      "application/vnd.jupyter.widget-view+json": {
       "model_id": "",
       "version_major": 2,
       "version_minor": 0
      },
      "text/plain": [
       "  0%|          | 0/10000 [00:00<?, ?it/s]"
      ]
     },
     "metadata": {},
     "output_type": "display_data"
    },
    {
     "name": "stdout",
     "output_type": "stream",
     "text": [
      "Epoch #18\n",
      "Current log-likelihood: -2834.1603241170087\n",
      "Current accepted proposals: 11080\n"
     ]
    },
    {
     "data": {
      "application/vnd.jupyter.widget-view+json": {
       "model_id": "",
       "version_major": 2,
       "version_minor": 0
      },
      "text/plain": [
       "  0%|          | 0/10000 [00:00<?, ?it/s]"
      ]
     },
     "metadata": {},
     "output_type": "display_data"
    },
    {
     "name": "stdout",
     "output_type": "stream",
     "text": [
      "Epoch #19\n",
      "Current log-likelihood: -2848.616289660826\n",
      "Current accepted proposals: 11880\n"
     ]
    },
    {
     "data": {
      "application/vnd.jupyter.widget-view+json": {
       "model_id": "",
       "version_major": 2,
       "version_minor": 0
      },
      "text/plain": [
       "  0%|          | 0/10000 [00:00<?, ?it/s]"
      ]
     },
     "metadata": {},
     "output_type": "display_data"
    },
    {
     "name": "stdout",
     "output_type": "stream",
     "text": [
      "Epoch #20\n",
      "Current log-likelihood: -2184.5921398183245\n",
      "Current accepted proposals: 12303\n"
     ]
    },
    {
     "data": {
      "application/vnd.jupyter.widget-view+json": {
       "model_id": "",
       "version_major": 2,
       "version_minor": 0
      },
      "text/plain": [
       "  0%|          | 0/10000 [00:00<?, ?it/s]"
      ]
     },
     "metadata": {},
     "output_type": "display_data"
    },
    {
     "name": "stdout",
     "output_type": "stream",
     "text": [
      "Epoch #21\n",
      "Current log-likelihood: -2828.5312363917906\n",
      "Current accepted proposals: 12938\n"
     ]
    },
    {
     "data": {
      "application/vnd.jupyter.widget-view+json": {
       "model_id": "",
       "version_major": 2,
       "version_minor": 0
      },
      "text/plain": [
       "  0%|          | 0/10000 [00:00<?, ?it/s]"
      ]
     },
     "metadata": {},
     "output_type": "display_data"
    },
    {
     "name": "stdout",
     "output_type": "stream",
     "text": [
      "Epoch #22\n",
      "Current log-likelihood: -2810.6888999605158\n",
      "Current accepted proposals: 13845\n"
     ]
    },
    {
     "data": {
      "application/vnd.jupyter.widget-view+json": {
       "model_id": "",
       "version_major": 2,
       "version_minor": 0
      },
      "text/plain": [
       "  0%|          | 0/10000 [00:00<?, ?it/s]"
      ]
     },
     "metadata": {},
     "output_type": "display_data"
    },
    {
     "name": "stdout",
     "output_type": "stream",
     "text": [
      "Epoch #23\n",
      "Current log-likelihood: -2184.5921398183245\n",
      "Current accepted proposals: 14513\n"
     ]
    },
    {
     "data": {
      "application/vnd.jupyter.widget-view+json": {
       "model_id": "",
       "version_major": 2,
       "version_minor": 0
      },
      "text/plain": [
       "  0%|          | 0/10000 [00:00<?, ?it/s]"
      ]
     },
     "metadata": {},
     "output_type": "display_data"
    },
    {
     "name": "stdout",
     "output_type": "stream",
     "text": [
      "Epoch #24\n",
      "Current log-likelihood: -2184.5921398183245\n",
      "Current accepted proposals: 15009\n"
     ]
    },
    {
     "data": {
      "application/vnd.jupyter.widget-view+json": {
       "model_id": "",
       "version_major": 2,
       "version_minor": 0
      },
      "text/plain": [
       "  0%|          | 0/10000 [00:00<?, ?it/s]"
      ]
     },
     "metadata": {},
     "output_type": "display_data"
    },
    {
     "name": "stdout",
     "output_type": "stream",
     "text": [
      "Epoch #25\n",
      "Current log-likelihood: -2691.3299750618735\n",
      "Current accepted proposals: 15665\n",
      "Best likelihood: -2184.5921398183245\n",
      "Acceptance ratio: 0.06266\n"
     ]
    }
   ],
   "source": [
    "corpus_frequencies_fourgramm = get_frequencies(tokenized_corpus, n_gram=4)\n",
    "reverse_mapping = generate_mcmc_reverse_mapping(message, alphabet_message, alphabet_ru, corpus_frequencies_fourgramm, n_gram=4, epochs=25)"
   ]
  },
  {
   "cell_type": "code",
   "execution_count": 170,
   "id": "99c220e2",
   "metadata": {},
   "outputs": [
    {
     "name": "stdout",
     "output_type": "stream",
     "text": [
      "Char decoding accuracy: 99.57%\n",
      "Levenstein distace: 1\n"
     ]
    },
    {
     "data": {
      "text/plain": [
       "'если вы видите нормальный или почти нормальный текст у этого сообщения который легко прочитать скорее всего вы все сделали правильно и получите максимальный балл за последнее четвертое задание курса хотя конечно я ничего не обещаф'"
      ]
     },
     "execution_count": 170,
     "metadata": {},
     "output_type": "execute_result"
    }
   ],
   "source": [
    "decoded_test = apply_mapping(message, reverse_mapping)\n",
    "print(f\"Char decoding accuracy: {char_accuracy(message_answer, decoded_test) * 100:.2f}%\")\n",
    "print(f\"Levenstein distace: {levenstein_distance(message_answer, decoded_test)}\")\n",
    "decoded_test"
   ]
  },
  {
   "cell_type": "markdown",
   "id": "dfdf4f18",
   "metadata": {},
   "source": [
    "Триграммы и 4-граммы работают примерно одинаково"
   ]
  },
  {
   "cell_type": "markdown",
   "id": "racial-margin",
   "metadata": {},
   "source": [
    "## Бонус: Задание 6"
   ]
  },
  {
   "cell_type": "markdown",
   "id": "governing-civilian",
   "metadata": {},
   "source": [
    "Бонус: какие вы можете придумать применения для этой модели? Пляшущие человечки ведь не так часто встречаются в жизни (хотя встречаются! и это самое потрясающее во всей этой истории, но об этом я расскажу потом)."
   ]
  },
  {
   "cell_type": "markdown",
   "id": "flush-ground",
   "metadata": {},
   "source": [
    "Потенциальные способы использования модели:\n",
    "1. Дешифровка записей, закодированных различными методами перестановок.\n",
    "2. Анализ мутаций в аминокислотных последовательностях."
   ]
  }
 ],
 "metadata": {
  "kernelspec": {
   "display_name": "Python 3",
   "language": "python",
   "name": "python3"
  },
  "language_info": {
   "codemirror_mode": {
    "name": "ipython",
    "version": 3
   },
   "file_extension": ".py",
   "mimetype": "text/x-python",
   "name": "python",
   "nbconvert_exporter": "python",
   "pygments_lexer": "ipython3",
   "version": "3.9.5"
  }
 },
 "nbformat": 4,
 "nbformat_minor": 5
}
